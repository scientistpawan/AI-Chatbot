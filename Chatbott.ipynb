{
  "nbformat": 4,
  "nbformat_minor": 0,
  "metadata": {
    "colab": {
      "provenance": []
    },
    "kernelspec": {
      "name": "python3",
      "display_name": "Python 3"
    },
    "language_info": {
      "name": "python"
    }
  },
  "cells": [
    {
      "cell_type": "markdown",
      "source": [
        "<a id=\"6\"></a>\n",
        "<center><h1><u>Developing Simple Chatbot using Python and Deep Learning</h1></u></center>"
      ],
      "metadata": {
        "id": "agHY5TarKFNV"
      }
    },
    {
      "cell_type": "code",
      "execution_count": 25,
      "metadata": {
        "id": "CoHefELWyL_4"
      },
      "outputs": [],
      "source": [
        "# import above mentioned libraries\n",
        "import random\n",
        "from tensorflow import keras\n",
        "from tensorflow.keras.optimizers import SGD\n",
        "from tensorflow.keras.layers import Dense, Dropout\n",
        "from tensorflow.keras.models import load_model\n",
        "from tensorflow.keras.models import Sequential\n",
        "import numpy as np\n",
        "import pickle\n",
        "import json"
      ]
    },
    {
      "cell_type": "markdown",
      "source": [
        "Now we will import **nltk** library for preprocess the data.<br>\n",
        "First we will import **nltk** library.<br>\n",
        "After importing **nltk**, we will **WordNetLemmatizer** and create object of it and download the neccessay package such as **punkt** and **wordnet**."
      ],
      "metadata": {
        "id": "QDwcfmrNwtOC"
      }
    },
    {
      "cell_type": "code",
      "source": [
        "#import nltk \n",
        "import nltk\n",
        "#importing WordNetLemmatizer from nltk.stem\n",
        "from nltk.stem import WordNetLemmatizer\n",
        "#creating WordNetLemmatizer object \n",
        "lemmatizer= WordNetLemmatizer()\n",
        "#download punkt and wordnet \n",
        "nltk.download()\n",
        "nltk.download('punkt')\n",
        "nltk.download('wordnet')\n"
      ],
      "metadata": {
        "colab": {
          "base_uri": "https://localhost:8080/"
        },
        "id": "nE0f5B0LMi3X",
        "outputId": "60b5cfac-f3f9-4325-c34f-f93a20339b57"
      },
      "execution_count": 26,
      "outputs": [
        {
          "name": "stdout",
          "output_type": "stream",
          "text": [
            "NLTK Downloader\n",
            "---------------------------------------------------------------------------\n",
            "    d) Download   l) List    u) Update   c) Config   h) Help   q) Quit\n",
            "---------------------------------------------------------------------------\n",
            "Downloader> q\n"
          ]
        },
        {
          "output_type": "stream",
          "name": "stderr",
          "text": [
            "[nltk_data] Downloading package punkt to /root/nltk_data...\n",
            "[nltk_data]   Package punkt is already up-to-date!\n",
            "[nltk_data] Downloading package wordnet to /root/nltk_data...\n",
            "[nltk_data]   Package wordnet is already up-to-date!\n"
          ]
        },
        {
          "output_type": "execute_result",
          "data": {
            "text/plain": [
              "True"
            ]
          },
          "metadata": {},
          "execution_count": 26
        }
      ]
    },
    {
      "cell_type": "code",
      "source": [
        "from google.colab import drive\n",
        "drive.mount('/content/drive')"
      ],
      "metadata": {
        "colab": {
          "base_uri": "https://localhost:8080/"
        },
        "id": "_GgcpGoTWOC5",
        "outputId": "f03c925c-0a72-4802-9bb6-0bd587567ef7"
      },
      "execution_count": 27,
      "outputs": [
        {
          "output_type": "stream",
          "name": "stdout",
          "text": [
            "Drive already mounted at /content/drive; to attempt to forcibly remount, call drive.mount(\"/content/drive\", force_remount=True).\n"
          ]
        }
      ]
    },
    {
      "cell_type": "markdown",
      "source": [
        "Now create a folder in drive and add path here to make use of files and intents."
      ],
      "metadata": {
        "id": "PE6C_OfVYqE0"
      }
    },
    {
      "cell_type": "code",
      "source": [
        "%cd /content/drive/MyDrive/NLP"
      ],
      "metadata": {
        "colab": {
          "base_uri": "https://localhost:8080/"
        },
        "id": "v_08StUaYOrZ",
        "outputId": "074571fa-59c3-4414-ac85-88cc8b7b6ad3"
      },
      "execution_count": 28,
      "outputs": [
        {
          "output_type": "stream",
          "name": "stdout",
          "text": [
            "/content/drive/MyDrive/NLP\n"
          ]
        }
      ]
    },
    {
      "cell_type": "code",
      "source": [
        "!ls"
      ],
      "metadata": {
        "colab": {
          "base_uri": "https://localhost:8080/"
        },
        "id": "5ajbZYl0Wv5R",
        "outputId": "489cfb19-0b7e-428a-946f-99d83bb1cf30"
      },
      "execution_count": 29,
      "outputs": [
        {
          "output_type": "stream",
          "name": "stdout",
          "text": [
            "chatbot_model.h5  classes.pkl  static  template  words.pkl\n"
          ]
        }
      ]
    },
    {
      "cell_type": "code",
      "source": [
        "\n",
        "words=[]\n",
        "classes=[]\n",
        "documents=[]\n",
        "\n",
        "ignore_words =['?','!']\n",
        "\n",
        "data_file=open('/content/drive/MyDrive/NLP/template/intents.json').read()\n",
        "\n",
        "intents=json.loads(data_file)"
      ],
      "metadata": {
        "id": "mpfOprIWMnbi"
      },
      "execution_count": 30,
      "outputs": []
    },
    {
      "cell_type": "code",
      "source": [
        "\n",
        "for intent in intents[\"intents\"]:\n",
        "    for pattern in intent[\"patterns\"]:\n",
        "      w=nltk.word_tokenize(pattern)\n",
        "      words.extend(w)\n",
        "      documents.append((w,intent['tag']))\n",
        "      if intent[\"tag\"] not in classes:\n",
        "        classes.append(intent['tag'])"
      ],
      "metadata": {
        "id": "SiSFCRMuMsH3"
      },
      "execution_count": 31,
      "outputs": []
    },
    {
      "cell_type": "code",
      "source": [
        "\n",
        "words=[lemmatizer.lemmatize(w.lower()) for w in words if w not in ignore_words]\n",
        "words= sorted(list(set(words)))\n",
        "\n",
        "classes=sorted(list(set(classes)))"
      ],
      "metadata": {
        "id": "Zn5R0D2qMwK_"
      },
      "execution_count": 32,
      "outputs": []
    },
    {
      "cell_type": "code",
      "source": [
        "print(len(documents),'documents')\n",
        "print(len(classes),'classes',classes)\n",
        "print(len(words),'unique lemmatized words',words)"
      ],
      "metadata": {
        "colab": {
          "base_uri": "https://localhost:8080/"
        },
        "id": "8FyTs8-wM1q0",
        "outputId": "4356dbc9-b333-475b-ea6f-d17ec7247fc4"
      },
      "execution_count": 33,
      "outputs": [
        {
          "output_type": "stream",
          "name": "stdout",
          "text": [
            "100 documents\n",
            "55 classes ['AI', 'abbr', 'artificial', 'bend', 'body', 'bot1', 'breathe', 'business', 'chatbot', 'chatterbox', 'clone', 'comp', 'computer', 'control', 'cramped', 'date', 'death', 'do', 'events', 'fav', 'fight', 'goodbye', 'greetings', 'hardware', 'hobby', 'idea', 'imortal', 'lang', 'laugh', 'lie', 'machine', 'malfunction', 'motormouth', 'move', 'name', 'name1', 'need', 'noanswer', 'os', 'program', 'programming', 'ratchet', 'robotics', 'robots', 'robotss', 'sapient', 'sense', 'sentiment', 'shoe', 'sound', 'stupid', 'thanks', 'usage', 'who', 'wt']\n",
            "126 unique lemmatized words [\"'m\", \"'s\", ',', 'a', 'ai', 'all', 'allowed', 'am', 'an', 'are', 'artificial', 'awesome', 'be', 'being', 'bend', 'body', 'bot', 'breathe', 'business', 'bye', 'can', 'chat', 'chatterbox', 'clone', 'coffee', 'computer', 'control', 'cramped', 'data', 'date', 'die', 'do', 'entity', 'event', 'favorite', 'favour', 'fight', 'for', 'good', 'great', 'hardware', 'haroo', 'hello', 'help', 'helpful', 'helping', 'hey', 'hi', 'hobby', 'holla', 'hope', 'how', 'i', 'idea', 'immortal', 'in', 'is', 'it', 'jaw', 'kind', 'language', 'later', 'laugh', 'lie', 'like', 'linguistic', 'making', 'malfunction', 'mate', 'me', 'motormouth', 'move', 'my', 'name', 'need', 'not', 'of', 'okay', 'on', 'operating', 'out', 'over', 'popping', 'product', 'program', 'programming', 'purpose', 'ratchet', 'robot', 'robotics', 'sapient', 'see', 'sense', 'sentient', 'shoe', 'should', 'size', 'sound', 'stupid', 'system', 'take', 'thank', 'thanks', 'thankyou', 'that', 'the', 'there', 'to', 'true', 'type', 'upcoming', 'use', 'walk', 'want', 'wassup', 'what', 'when', 'who', 'will', 'work', 'wow', 'written', 'wtf', 'yaw', 'you', 'your']\n"
          ]
        }
      ]
    },
    {
      "cell_type": "code",
      "source": [
        "pickle.dump(words, open('words.pkl','wb'))\n",
        "\n",
        "pickle.dump(classes, open('classes.pkl','wb'))"
      ],
      "metadata": {
        "id": "G6QW1yoSM9gF"
      },
      "execution_count": 34,
      "outputs": []
    },
    {
      "cell_type": "code",
      "source": [
        "training=[]\n",
        "\n",
        "output_empty = [0] * len(classes)\n",
        "\n",
        "for doc in documents:\n",
        "\n",
        "    bag=[]\n",
        "    pattern_words=doc[0]\n",
        "    pattern_words=[lemmatizer.lemmatize(word.lower()) for word in pattern_words]\n",
        "    for w in words:\n",
        "        bag.append(1) if w in pattern_words else bag.append(0)\n",
        "\n",
        "    output_row=list(output_empty)\n",
        "\n",
        "    output_row[classes.index(doc[1])] = 1\n",
        "\n",
        "    training.append([bag, output_row])"
      ],
      "metadata": {
        "id": "3YyOMiDtNAQ5"
      },
      "execution_count": 35,
      "outputs": []
    },
    {
      "cell_type": "code",
      "source": [
        "random.shuffle(training)\n",
        "training=np.array(training)\n",
        "train_x=list(training[:,0])\n",
        "train_y=list(training[:,1])\n",
        "print(\"Training data created\")"
      ],
      "metadata": {
        "colab": {
          "base_uri": "https://localhost:8080/"
        },
        "id": "VkSJzdS3NETD",
        "outputId": "36b0d670-9dc2-4964-e1d1-8a84a3668e7f"
      },
      "execution_count": 36,
      "outputs": [
        {
          "output_type": "stream",
          "name": "stdout",
          "text": [
            "Training data created\n"
          ]
        },
        {
          "output_type": "stream",
          "name": "stderr",
          "text": [
            "<ipython-input-36-61bde1b4ce4c>:2: VisibleDeprecationWarning: Creating an ndarray from ragged nested sequences (which is a list-or-tuple of lists-or-tuples-or ndarrays with different lengths or shapes) is deprecated. If you meant to do this, you must specify 'dtype=object' when creating the ndarray.\n",
            "  training=np.array(training)\n"
          ]
        }
      ]
    },
    {
      "cell_type": "code",
      "source": [
        "model=Sequential()\n",
        "model.add(Dense(128,input_shape=(len(train_x[0]),),activation='relu'))\n",
        "model.add(Dropout(0.5))\n",
        "model.add(Dense(64, activation='relu'))\n",
        "model.add(Dropout(0.5))\n",
        "model.add(Dense(len(train_y[0]),activation='softmax'))"
      ],
      "metadata": {
        "id": "HDxtDQt_NIRf"
      },
      "execution_count": 37,
      "outputs": []
    },
    {
      "cell_type": "markdown",
      "source": [
        "After adding all the hidden layers, now we check the summary of our model."
      ],
      "metadata": {
        "id": "r82ZIAZuKNt6"
      }
    },
    {
      "cell_type": "code",
      "source": [
        "model.summary()"
      ],
      "metadata": {
        "colab": {
          "base_uri": "https://localhost:8080/"
        },
        "id": "cUUY2oUkNTM9",
        "outputId": "b093c840-8b70-4dd9-ab8e-1718c13e495a"
      },
      "execution_count": 14,
      "outputs": [
        {
          "output_type": "stream",
          "name": "stdout",
          "text": [
            "Model: \"sequential\"\n",
            "_________________________________________________________________\n",
            " Layer (type)                Output Shape              Param #   \n",
            "=================================================================\n",
            " dense (Dense)               (None, 128)               16256     \n",
            "                                                                 \n",
            " dropout (Dropout)           (None, 128)               0         \n",
            "                                                                 \n",
            " dense_1 (Dense)             (None, 64)                8256      \n",
            "                                                                 \n",
            " dropout_1 (Dropout)         (None, 64)                0         \n",
            "                                                                 \n",
            " dense_2 (Dense)             (None, 55)                3575      \n",
            "                                                                 \n",
            "=================================================================\n",
            "Total params: 28,087\n",
            "Trainable params: 28,087\n",
            "Non-trainable params: 0\n",
            "_________________________________________________________________\n"
          ]
        }
      ]
    },
    {
      "cell_type": "code",
      "source": [
        "sgd= SGD(lr=0.01, decay=1e-6, momentum=0.9, nesterov=True)\n",
        "model.compile(loss='categorical_crossentropy',optimizer=sgd, metrics=['accuracy'])"
      ],
      "metadata": {
        "id": "6GJDpGnwNQDJ"
      },
      "execution_count": 38,
      "outputs": []
    },
    {
      "cell_type": "code",
      "source": [
        "hist = model.fit(np.array(train_x), np.array(train_y), epochs=150, batch_size=5, verbose=1)\n",
        "model.save('chatbot_model.h5', hist)\n",
        "print(\"model created\")"
      ],
      "metadata": {
        "id": "UIpv_bXYNXZt",
        "colab": {
          "base_uri": "https://localhost:8080/"
        },
        "outputId": "34e560f0-b186-435a-cb55-87cea99393f5"
      },
      "execution_count": 39,
      "outputs": [
        {
          "output_type": "stream",
          "name": "stdout",
          "text": [
            "Epoch 1/150\n",
            "20/20 [==============================] - 0s 2ms/step - loss: 4.0283 - accuracy: 0.0300\n",
            "Epoch 2/150\n",
            "20/20 [==============================] - 0s 2ms/step - loss: 3.9392 - accuracy: 0.0700\n",
            "Epoch 3/150\n",
            "20/20 [==============================] - 0s 2ms/step - loss: 3.8625 - accuracy: 0.1100\n",
            "Epoch 4/150\n",
            "20/20 [==============================] - 0s 2ms/step - loss: 3.7853 - accuracy: 0.1600\n",
            "Epoch 5/150\n",
            "20/20 [==============================] - 0s 2ms/step - loss: 3.7453 - accuracy: 0.1100\n",
            "Epoch 6/150\n",
            "20/20 [==============================] - 0s 2ms/step - loss: 3.5892 - accuracy: 0.1800\n",
            "Epoch 7/150\n",
            "20/20 [==============================] - 0s 2ms/step - loss: 3.5554 - accuracy: 0.1000\n",
            "Epoch 8/150\n",
            "20/20 [==============================] - 0s 2ms/step - loss: 3.3996 - accuracy: 0.1900\n",
            "Epoch 9/150\n",
            "20/20 [==============================] - 0s 2ms/step - loss: 3.2770 - accuracy: 0.2300\n",
            "Epoch 10/150\n",
            "20/20 [==============================] - 0s 2ms/step - loss: 3.3132 - accuracy: 0.1900\n",
            "Epoch 11/150\n",
            "20/20 [==============================] - 0s 2ms/step - loss: 3.0762 - accuracy: 0.2900\n",
            "Epoch 12/150\n",
            "20/20 [==============================] - 0s 2ms/step - loss: 3.0750 - accuracy: 0.2700\n",
            "Epoch 13/150\n",
            "20/20 [==============================] - 0s 2ms/step - loss: 2.8705 - accuracy: 0.3100\n",
            "Epoch 14/150\n",
            "20/20 [==============================] - 0s 2ms/step - loss: 2.7777 - accuracy: 0.3300\n",
            "Epoch 15/150\n",
            "20/20 [==============================] - 0s 2ms/step - loss: 2.7472 - accuracy: 0.3700\n",
            "Epoch 16/150\n",
            "20/20 [==============================] - 0s 2ms/step - loss: 2.5727 - accuracy: 0.3600\n",
            "Epoch 17/150\n",
            "20/20 [==============================] - 0s 2ms/step - loss: 2.5122 - accuracy: 0.3800\n",
            "Epoch 18/150\n",
            "20/20 [==============================] - 0s 2ms/step - loss: 2.4373 - accuracy: 0.3800\n",
            "Epoch 19/150\n",
            "20/20 [==============================] - 0s 2ms/step - loss: 2.5249 - accuracy: 0.3300\n",
            "Epoch 20/150\n",
            "20/20 [==============================] - 0s 2ms/step - loss: 2.2768 - accuracy: 0.3400\n",
            "Epoch 21/150\n",
            "20/20 [==============================] - 0s 2ms/step - loss: 2.0794 - accuracy: 0.4800\n",
            "Epoch 22/150\n",
            "20/20 [==============================] - 0s 2ms/step - loss: 2.2134 - accuracy: 0.4400\n",
            "Epoch 23/150\n",
            "20/20 [==============================] - 0s 2ms/step - loss: 2.1224 - accuracy: 0.4400\n",
            "Epoch 24/150\n",
            "20/20 [==============================] - 0s 2ms/step - loss: 1.9378 - accuracy: 0.5000\n",
            "Epoch 25/150\n",
            "20/20 [==============================] - 0s 2ms/step - loss: 1.8387 - accuracy: 0.5100\n",
            "Epoch 26/150\n",
            "20/20 [==============================] - 0s 2ms/step - loss: 1.6555 - accuracy: 0.5600\n",
            "Epoch 27/150\n",
            "20/20 [==============================] - 0s 2ms/step - loss: 1.7499 - accuracy: 0.4400\n",
            "Epoch 28/150\n",
            "20/20 [==============================] - 0s 2ms/step - loss: 1.7273 - accuracy: 0.5900\n",
            "Epoch 29/150\n",
            "20/20 [==============================] - 0s 2ms/step - loss: 1.6943 - accuracy: 0.5100\n",
            "Epoch 30/150\n",
            "20/20 [==============================] - 0s 2ms/step - loss: 1.6856 - accuracy: 0.5300\n",
            "Epoch 31/150\n",
            "20/20 [==============================] - 0s 2ms/step - loss: 1.6027 - accuracy: 0.5900\n",
            "Epoch 32/150\n",
            "20/20 [==============================] - 0s 2ms/step - loss: 1.5803 - accuracy: 0.5600\n",
            "Epoch 33/150\n",
            "20/20 [==============================] - 0s 2ms/step - loss: 1.3384 - accuracy: 0.6200\n",
            "Epoch 34/150\n",
            "20/20 [==============================] - 0s 2ms/step - loss: 1.5138 - accuracy: 0.5800\n",
            "Epoch 35/150\n",
            "20/20 [==============================] - 0s 2ms/step - loss: 1.4978 - accuracy: 0.6200\n",
            "Epoch 36/150\n",
            "20/20 [==============================] - 0s 2ms/step - loss: 1.3921 - accuracy: 0.5800\n",
            "Epoch 37/150\n",
            "20/20 [==============================] - 0s 3ms/step - loss: 1.3356 - accuracy: 0.6300\n",
            "Epoch 38/150\n",
            "20/20 [==============================] - 0s 2ms/step - loss: 1.2586 - accuracy: 0.6700\n",
            "Epoch 39/150\n",
            "20/20 [==============================] - 0s 2ms/step - loss: 1.1080 - accuracy: 0.7200\n",
            "Epoch 40/150\n",
            "20/20 [==============================] - 0s 2ms/step - loss: 1.2083 - accuracy: 0.6500\n",
            "Epoch 41/150\n",
            "20/20 [==============================] - 0s 2ms/step - loss: 1.2040 - accuracy: 0.6500\n",
            "Epoch 42/150\n",
            "20/20 [==============================] - 0s 2ms/step - loss: 1.0804 - accuracy: 0.6600\n",
            "Epoch 43/150\n",
            "20/20 [==============================] - 0s 2ms/step - loss: 1.1196 - accuracy: 0.6300\n",
            "Epoch 44/150\n",
            "20/20 [==============================] - 0s 2ms/step - loss: 1.1547 - accuracy: 0.6900\n",
            "Epoch 45/150\n",
            "20/20 [==============================] - 0s 2ms/step - loss: 1.0950 - accuracy: 0.6600\n",
            "Epoch 46/150\n",
            "20/20 [==============================] - 0s 2ms/step - loss: 1.1732 - accuracy: 0.6800\n",
            "Epoch 47/150\n",
            "20/20 [==============================] - 0s 2ms/step - loss: 1.0586 - accuracy: 0.7000\n",
            "Epoch 48/150\n",
            "20/20 [==============================] - 0s 2ms/step - loss: 1.0117 - accuracy: 0.7400\n",
            "Epoch 49/150\n",
            "20/20 [==============================] - 0s 2ms/step - loss: 0.8237 - accuracy: 0.7800\n",
            "Epoch 50/150\n",
            "20/20 [==============================] - 0s 2ms/step - loss: 0.8216 - accuracy: 0.7900\n",
            "Epoch 51/150\n",
            "20/20 [==============================] - 0s 2ms/step - loss: 0.8491 - accuracy: 0.7200\n",
            "Epoch 52/150\n",
            "20/20 [==============================] - 0s 2ms/step - loss: 1.0007 - accuracy: 0.7300\n",
            "Epoch 53/150\n",
            "20/20 [==============================] - 0s 2ms/step - loss: 0.7981 - accuracy: 0.7900\n",
            "Epoch 54/150\n",
            "20/20 [==============================] - 0s 2ms/step - loss: 0.8182 - accuracy: 0.7600\n",
            "Epoch 55/150\n",
            "20/20 [==============================] - 0s 2ms/step - loss: 0.8450 - accuracy: 0.7200\n",
            "Epoch 56/150\n",
            "20/20 [==============================] - 0s 2ms/step - loss: 0.7455 - accuracy: 0.8000\n",
            "Epoch 57/150\n",
            "20/20 [==============================] - 0s 2ms/step - loss: 0.7536 - accuracy: 0.7800\n",
            "Epoch 58/150\n",
            "20/20 [==============================] - 0s 2ms/step - loss: 0.6722 - accuracy: 0.8400\n",
            "Epoch 59/150\n",
            "20/20 [==============================] - 0s 2ms/step - loss: 0.8785 - accuracy: 0.6700\n",
            "Epoch 60/150\n",
            "20/20 [==============================] - 0s 2ms/step - loss: 0.8949 - accuracy: 0.7200\n",
            "Epoch 61/150\n",
            "20/20 [==============================] - 0s 2ms/step - loss: 0.7549 - accuracy: 0.8100\n",
            "Epoch 62/150\n",
            "20/20 [==============================] - 0s 2ms/step - loss: 0.8031 - accuracy: 0.7500\n",
            "Epoch 63/150\n",
            "20/20 [==============================] - 0s 2ms/step - loss: 0.8077 - accuracy: 0.7300\n",
            "Epoch 64/150\n",
            "20/20 [==============================] - 0s 2ms/step - loss: 0.9232 - accuracy: 0.7100\n",
            "Epoch 65/150\n",
            "20/20 [==============================] - 0s 2ms/step - loss: 0.9015 - accuracy: 0.7700\n",
            "Epoch 66/150\n",
            "20/20 [==============================] - 0s 2ms/step - loss: 0.5888 - accuracy: 0.8500\n",
            "Epoch 67/150\n",
            "20/20 [==============================] - 0s 2ms/step - loss: 0.6480 - accuracy: 0.8200\n",
            "Epoch 68/150\n",
            "20/20 [==============================] - 0s 2ms/step - loss: 0.7939 - accuracy: 0.8100\n",
            "Epoch 69/150\n",
            "20/20 [==============================] - 0s 2ms/step - loss: 0.7965 - accuracy: 0.7900\n",
            "Epoch 70/150\n",
            "20/20 [==============================] - 0s 2ms/step - loss: 0.4757 - accuracy: 0.8600\n",
            "Epoch 71/150\n",
            "20/20 [==============================] - 0s 2ms/step - loss: 0.6786 - accuracy: 0.8000\n",
            "Epoch 72/150\n",
            "20/20 [==============================] - 0s 2ms/step - loss: 0.5433 - accuracy: 0.8200\n",
            "Epoch 73/150\n",
            "20/20 [==============================] - 0s 2ms/step - loss: 0.6445 - accuracy: 0.7800\n",
            "Epoch 74/150\n",
            "20/20 [==============================] - 0s 2ms/step - loss: 0.6208 - accuracy: 0.8700\n",
            "Epoch 75/150\n",
            "20/20 [==============================] - 0s 2ms/step - loss: 0.6502 - accuracy: 0.8400\n",
            "Epoch 76/150\n",
            "20/20 [==============================] - 0s 2ms/step - loss: 0.6083 - accuracy: 0.8200\n",
            "Epoch 77/150\n",
            "20/20 [==============================] - 0s 2ms/step - loss: 0.7327 - accuracy: 0.7800\n",
            "Epoch 78/150\n",
            "20/20 [==============================] - 0s 2ms/step - loss: 0.5842 - accuracy: 0.8000\n",
            "Epoch 79/150\n",
            "20/20 [==============================] - 0s 2ms/step - loss: 0.7091 - accuracy: 0.7600\n",
            "Epoch 80/150\n",
            "20/20 [==============================] - 0s 2ms/step - loss: 0.6828 - accuracy: 0.7900\n",
            "Epoch 81/150\n",
            "20/20 [==============================] - 0s 2ms/step - loss: 0.6723 - accuracy: 0.7900\n",
            "Epoch 82/150\n",
            "20/20 [==============================] - 0s 2ms/step - loss: 0.4744 - accuracy: 0.8500\n",
            "Epoch 83/150\n",
            "20/20 [==============================] - 0s 2ms/step - loss: 0.5731 - accuracy: 0.8300\n",
            "Epoch 84/150\n",
            "20/20 [==============================] - 0s 2ms/step - loss: 0.6393 - accuracy: 0.8200\n",
            "Epoch 85/150\n",
            "20/20 [==============================] - 0s 2ms/step - loss: 0.5574 - accuracy: 0.8400\n",
            "Epoch 86/150\n",
            "20/20 [==============================] - 0s 2ms/step - loss: 0.4784 - accuracy: 0.8400\n",
            "Epoch 87/150\n",
            "20/20 [==============================] - 0s 2ms/step - loss: 0.5654 - accuracy: 0.8300\n",
            "Epoch 88/150\n",
            "20/20 [==============================] - 0s 2ms/step - loss: 0.6240 - accuracy: 0.8100\n",
            "Epoch 89/150\n",
            "20/20 [==============================] - 0s 2ms/step - loss: 0.4733 - accuracy: 0.8800\n",
            "Epoch 90/150\n",
            "20/20 [==============================] - 0s 2ms/step - loss: 0.5366 - accuracy: 0.8300\n",
            "Epoch 91/150\n",
            "20/20 [==============================] - 0s 2ms/step - loss: 0.4460 - accuracy: 0.8900\n",
            "Epoch 92/150\n",
            "20/20 [==============================] - 0s 2ms/step - loss: 0.5340 - accuracy: 0.8300\n",
            "Epoch 93/150\n",
            "20/20 [==============================] - 0s 2ms/step - loss: 0.5434 - accuracy: 0.8300\n",
            "Epoch 94/150\n",
            "20/20 [==============================] - 0s 2ms/step - loss: 0.4836 - accuracy: 0.8700\n",
            "Epoch 95/150\n",
            "20/20 [==============================] - 0s 2ms/step - loss: 0.4418 - accuracy: 0.8600\n",
            "Epoch 96/150\n",
            "20/20 [==============================] - 0s 2ms/step - loss: 0.4209 - accuracy: 0.8600\n",
            "Epoch 97/150\n",
            "20/20 [==============================] - 0s 2ms/step - loss: 0.4952 - accuracy: 0.8200\n",
            "Epoch 98/150\n",
            "20/20 [==============================] - 0s 2ms/step - loss: 0.4586 - accuracy: 0.8800\n",
            "Epoch 99/150\n",
            "20/20 [==============================] - 0s 2ms/step - loss: 0.6136 - accuracy: 0.7800\n",
            "Epoch 100/150\n",
            "20/20 [==============================] - 0s 2ms/step - loss: 0.5384 - accuracy: 0.8700\n",
            "Epoch 101/150\n",
            "20/20 [==============================] - 0s 2ms/step - loss: 0.4754 - accuracy: 0.8500\n",
            "Epoch 102/150\n",
            "20/20 [==============================] - 0s 2ms/step - loss: 0.5517 - accuracy: 0.8400\n",
            "Epoch 103/150\n",
            "20/20 [==============================] - 0s 2ms/step - loss: 0.5052 - accuracy: 0.8300\n",
            "Epoch 104/150\n",
            "20/20 [==============================] - 0s 2ms/step - loss: 0.5111 - accuracy: 0.8200\n",
            "Epoch 105/150\n",
            "20/20 [==============================] - 0s 2ms/step - loss: 0.4457 - accuracy: 0.8800\n",
            "Epoch 106/150\n",
            "20/20 [==============================] - 0s 2ms/step - loss: 0.4273 - accuracy: 0.8600\n",
            "Epoch 107/150\n",
            "20/20 [==============================] - 0s 2ms/step - loss: 0.3806 - accuracy: 0.8800\n",
            "Epoch 108/150\n",
            "20/20 [==============================] - 0s 2ms/step - loss: 0.3689 - accuracy: 0.8500\n",
            "Epoch 109/150\n",
            "20/20 [==============================] - 0s 2ms/step - loss: 0.4450 - accuracy: 0.8900\n",
            "Epoch 110/150\n",
            "20/20 [==============================] - 0s 2ms/step - loss: 0.6475 - accuracy: 0.8100\n",
            "Epoch 111/150\n",
            "20/20 [==============================] - 0s 2ms/step - loss: 0.4592 - accuracy: 0.8100\n",
            "Epoch 112/150\n",
            "20/20 [==============================] - 0s 2ms/step - loss: 0.3737 - accuracy: 0.8900\n",
            "Epoch 113/150\n",
            "20/20 [==============================] - 0s 2ms/step - loss: 0.5340 - accuracy: 0.8700\n",
            "Epoch 114/150\n",
            "20/20 [==============================] - 0s 2ms/step - loss: 0.4066 - accuracy: 0.8700\n",
            "Epoch 115/150\n",
            "20/20 [==============================] - 0s 2ms/step - loss: 0.3095 - accuracy: 0.9100\n",
            "Epoch 116/150\n",
            "20/20 [==============================] - 0s 2ms/step - loss: 0.3220 - accuracy: 0.9200\n",
            "Epoch 117/150\n",
            "20/20 [==============================] - 0s 2ms/step - loss: 0.3784 - accuracy: 0.9100\n",
            "Epoch 118/150\n",
            "20/20 [==============================] - 0s 2ms/step - loss: 0.5008 - accuracy: 0.8500\n",
            "Epoch 119/150\n",
            "20/20 [==============================] - 0s 2ms/step - loss: 0.3970 - accuracy: 0.8300\n",
            "Epoch 120/150\n",
            "20/20 [==============================] - 0s 2ms/step - loss: 0.3226 - accuracy: 0.9000\n",
            "Epoch 121/150\n",
            "20/20 [==============================] - 0s 2ms/step - loss: 0.3535 - accuracy: 0.8900\n",
            "Epoch 122/150\n",
            "20/20 [==============================] - 0s 2ms/step - loss: 0.4073 - accuracy: 0.8800\n",
            "Epoch 123/150\n",
            "20/20 [==============================] - 0s 2ms/step - loss: 0.3224 - accuracy: 0.9100\n",
            "Epoch 124/150\n",
            "20/20 [==============================] - 0s 2ms/step - loss: 0.4910 - accuracy: 0.8300\n",
            "Epoch 125/150\n",
            "20/20 [==============================] - 0s 2ms/step - loss: 0.4070 - accuracy: 0.8900\n",
            "Epoch 126/150\n",
            "20/20 [==============================] - 0s 2ms/step - loss: 0.4890 - accuracy: 0.8600\n",
            "Epoch 127/150\n",
            "20/20 [==============================] - 0s 2ms/step - loss: 0.3694 - accuracy: 0.8700\n",
            "Epoch 128/150\n",
            "20/20 [==============================] - 0s 2ms/step - loss: 0.4975 - accuracy: 0.8100\n",
            "Epoch 129/150\n",
            "20/20 [==============================] - 0s 2ms/step - loss: 0.3299 - accuracy: 0.8900\n",
            "Epoch 130/150\n",
            "20/20 [==============================] - 0s 2ms/step - loss: 0.3961 - accuracy: 0.8700\n",
            "Epoch 131/150\n",
            "20/20 [==============================] - 0s 2ms/step - loss: 0.3167 - accuracy: 0.8800\n",
            "Epoch 132/150\n",
            "20/20 [==============================] - 0s 2ms/step - loss: 0.4218 - accuracy: 0.8400\n",
            "Epoch 133/150\n",
            "20/20 [==============================] - 0s 2ms/step - loss: 0.3934 - accuracy: 0.8800\n",
            "Epoch 134/150\n",
            "20/20 [==============================] - 0s 2ms/step - loss: 0.3457 - accuracy: 0.9000\n",
            "Epoch 135/150\n",
            "20/20 [==============================] - 0s 2ms/step - loss: 0.4004 - accuracy: 0.9100\n",
            "Epoch 136/150\n",
            "20/20 [==============================] - 0s 2ms/step - loss: 0.3463 - accuracy: 0.8800\n",
            "Epoch 137/150\n",
            "20/20 [==============================] - 0s 2ms/step - loss: 0.4820 - accuracy: 0.8400\n",
            "Epoch 138/150\n",
            "20/20 [==============================] - 0s 2ms/step - loss: 0.3879 - accuracy: 0.8600\n",
            "Epoch 139/150\n",
            "20/20 [==============================] - 0s 2ms/step - loss: 0.4096 - accuracy: 0.8500\n",
            "Epoch 140/150\n",
            "20/20 [==============================] - 0s 2ms/step - loss: 0.4007 - accuracy: 0.8700\n",
            "Epoch 141/150\n",
            "20/20 [==============================] - 0s 2ms/step - loss: 0.4694 - accuracy: 0.8400\n",
            "Epoch 142/150\n",
            "20/20 [==============================] - 0s 2ms/step - loss: 0.2805 - accuracy: 0.9200\n",
            "Epoch 143/150\n",
            "20/20 [==============================] - 0s 2ms/step - loss: 0.3357 - accuracy: 0.9000\n",
            "Epoch 144/150\n",
            "20/20 [==============================] - 0s 2ms/step - loss: 0.2926 - accuracy: 0.8900\n",
            "Epoch 145/150\n",
            "20/20 [==============================] - 0s 2ms/step - loss: 0.2863 - accuracy: 0.9000\n",
            "Epoch 146/150\n",
            "20/20 [==============================] - 0s 2ms/step - loss: 0.3406 - accuracy: 0.9000\n",
            "Epoch 147/150\n",
            "20/20 [==============================] - 0s 2ms/step - loss: 0.3305 - accuracy: 0.8900\n",
            "Epoch 148/150\n",
            "20/20 [==============================] - 0s 2ms/step - loss: 0.4816 - accuracy: 0.8600\n",
            "Epoch 149/150\n",
            "20/20 [==============================] - 0s 2ms/step - loss: 0.4061 - accuracy: 0.8300\n",
            "Epoch 150/150\n",
            "20/20 [==============================] - 0s 2ms/step - loss: 0.3151 - accuracy: 0.9000\n",
            "model created\n"
          ]
        }
      ]
    },
    {
      "cell_type": "markdown",
      "source": [
        "Now our model is trained, So we have to deploy our model with an interface.\n",
        "So for flask implementation we need IDLEs for implementation. But in this project we are going to implement flask with the help of Google Colab Notebook.\n",
        "\n",
        "So lets start with Deployment\n",
        "---"
      ],
      "metadata": {
        "id": "XbhUTkqMU7DI"
      }
    },
    {
      "cell_type": "markdown",
      "source": [
        "First we will install flask_ngrok for flask implementation in google colab."
      ],
      "metadata": {
        "id": "IAyym0wVWTbo"
      }
    },
    {
      "cell_type": "code",
      "source": [
        "!pip install flask_ngrok"
      ],
      "metadata": {
        "id": "hzPGJp2kz1fe",
        "colab": {
          "base_uri": "https://localhost:8080/"
        },
        "outputId": "252d519e-5bf6-4eff-b54c-49281fdf6ef5"
      },
      "execution_count": 17,
      "outputs": [
        {
          "output_type": "stream",
          "name": "stdout",
          "text": [
            "Looking in indexes: https://pypi.org/simple, https://us-python.pkg.dev/colab-wheels/public/simple/\n",
            "Collecting flask_ngrok\n",
            "  Downloading flask_ngrok-0.0.25-py3-none-any.whl (3.1 kB)\n",
            "Requirement already satisfied: Flask>=0.8 in /usr/local/lib/python3.8/dist-packages (from flask_ngrok) (1.1.4)\n",
            "Requirement already satisfied: requests in /usr/local/lib/python3.8/dist-packages (from flask_ngrok) (2.25.1)\n",
            "Requirement already satisfied: click<8.0,>=5.1 in /usr/local/lib/python3.8/dist-packages (from Flask>=0.8->flask_ngrok) (7.1.2)\n",
            "Requirement already satisfied: itsdangerous<2.0,>=0.24 in /usr/local/lib/python3.8/dist-packages (from Flask>=0.8->flask_ngrok) (1.1.0)\n",
            "Requirement already satisfied: Werkzeug<2.0,>=0.15 in /usr/local/lib/python3.8/dist-packages (from Flask>=0.8->flask_ngrok) (1.0.1)\n",
            "Requirement already satisfied: Jinja2<3.0,>=2.10.1 in /usr/local/lib/python3.8/dist-packages (from Flask>=0.8->flask_ngrok) (2.11.3)\n",
            "Requirement already satisfied: certifi>=2017.4.17 in /usr/local/lib/python3.8/dist-packages (from requests->flask_ngrok) (2022.12.7)\n",
            "Requirement already satisfied: idna<3,>=2.5 in /usr/local/lib/python3.8/dist-packages (from requests->flask_ngrok) (2.10)\n",
            "Requirement already satisfied: chardet<5,>=3.0.2 in /usr/local/lib/python3.8/dist-packages (from requests->flask_ngrok) (4.0.0)\n",
            "Requirement already satisfied: urllib3<1.27,>=1.21.1 in /usr/local/lib/python3.8/dist-packages (from requests->flask_ngrok) (1.24.3)\n",
            "Requirement already satisfied: MarkupSafe>=0.23 in /usr/local/lib/python3.8/dist-packages (from Jinja2<3.0,>=2.10.1->Flask>=0.8->flask_ngrok) (2.0.1)\n",
            "Installing collected packages: flask_ngrok\n",
            "Successfully installed flask_ngrok-0.0.25\n"
          ]
        }
      ]
    },
    {
      "cell_type": "markdown",
      "source": [
        "Now we will install and download the ngrok with these commands for installing."
      ],
      "metadata": {
        "id": "7XDE4-g2bQTn"
      }
    },
    {
      "cell_type": "code",
      "source": [
        "! ngrok config add-authtoken 2Ku4oUNr7ddMQcJwtkuuuuQsLnN_5D67zkK8UusL2rnW1ntrY"
      ],
      "metadata": {
        "id": "36IFSZNA8o_W",
        "colab": {
          "base_uri": "https://localhost:8080/"
        },
        "outputId": "96eaf2cf-8197-444a-880e-e9e00ff75a20"
      },
      "execution_count": 19,
      "outputs": [
        {
          "output_type": "stream",
          "name": "stdout",
          "text": [
            "Authtoken saved to configuration file: /root/.config/ngrok/ngrok.yml\n"
          ]
        }
      ]
    },
    {
      "cell_type": "code",
      "source": [
        "from flask import *\n",
        "from flask_ngrok import run_with_ngrok\n",
        "import random\n",
        "import numpy as np\n",
        "import pickle\n",
        "import json\n",
        "from tensorflow.keras.models import load_model\n",
        "import nltk\n",
        "from nltk.stem import WordNetLemmatizer\n",
        "lemmatizer= WordNetLemmatizer()"
      ],
      "metadata": {
        "id": "Vv8DWJbL7POS"
      },
      "execution_count": 40,
      "outputs": []
    },
    {
      "cell_type": "code",
      "source": [
        "!pip install pyngrok==4.1.1"
      ],
      "metadata": {
        "colab": {
          "base_uri": "https://localhost:8080/"
        },
        "id": "2btE_QMuqh29",
        "outputId": "6f748e2d-c86a-4f6f-d2dc-578d88b86615"
      },
      "execution_count": 21,
      "outputs": [
        {
          "output_type": "stream",
          "name": "stdout",
          "text": [
            "Looking in indexes: https://pypi.org/simple, https://us-python.pkg.dev/colab-wheels/public/simple/\n",
            "Collecting pyngrok==4.1.1\n",
            "  Downloading pyngrok-4.1.1.tar.gz (18 kB)\n",
            "  Preparing metadata (setup.py) ... \u001b[?25l\u001b[?25hdone\n",
            "Requirement already satisfied: future in /usr/local/lib/python3.8/dist-packages (from pyngrok==4.1.1) (0.16.0)\n",
            "Requirement already satisfied: PyYAML in /usr/local/lib/python3.8/dist-packages (from pyngrok==4.1.1) (6.0)\n",
            "Building wheels for collected packages: pyngrok\n",
            "  Building wheel for pyngrok (setup.py) ... \u001b[?25l\u001b[?25hdone\n",
            "  Created wheel for pyngrok: filename=pyngrok-4.1.1-py3-none-any.whl size=15982 sha256=6c432d46fd4d8b1c94e961544958103898af7068f857b903f858310c08e0fd1d\n",
            "  Stored in directory: /root/.cache/pip/wheels/5e/0a/51/8cb053ccd84481dd3233eba4cdb608bc7a885fd8ca418c0806\n",
            "Successfully built pyngrok\n",
            "Installing collected packages: pyngrok\n",
            "Successfully installed pyngrok-4.1.1\n"
          ]
        }
      ]
    },
    {
      "cell_type": "code",
      "source": [
        "#create a flask app\n",
        "app= Flask(__name__)\n",
        "run_with_ngrok(app)\n",
        "\n",
        "model= load_model('/content/drive/MyDrive/NLP/chatbot_model.h5')\n",
        "\n",
        "intents= json.loads(open('/content/drive/MyDrive/NLP/template/intents.json').read())\n",
        "\n",
        "words= pickle.load(open('/content/drive/MyDrive/NLP/words.pkl','rb'))\n",
        "\n",
        "classes= pickle.load(open('/content/drive/MyDrive/NLP/classes.pkl','rb'))\n",
        "\n",
        "@app.route(\"/\")\n",
        "\n",
        "def home():\n",
        "    return render_template('/content/drive/MyDrive/NLP/template/index.html')\n",
        "\n",
        "@app.route(\"/get\",methods=[\"POST\"])\n",
        "\n",
        "def chatbot_response():\n",
        "    msg = request.form[\"msg\"]\n",
        "\n",
        "    if msg.startswith('my name is'):\n",
        "        name =msg[11:]\n",
        "        ints = predict_class(msg, model)\n",
        "        res1 = getResponse(ints, intents)\n",
        "        res =res1.replace(\"{n}\",name)\n",
        "\n",
        "    elif msg.startswith('Hi my name is'):\n",
        "        name =msg[14:]\n",
        "        \n",
        "        ints = predict_class(msg, model)\n",
        "\n",
        "        res1 = getResponse(ints, intents)\n",
        "\n",
        "        res =res1.replace(\"{n}\",name)\n",
        "\n",
        "    else:\n",
        "        \n",
        "        ints = predict_class(msg, model)\n",
        "\n",
        "        res1 = getResponse(ints, intents)\n",
        "\n",
        "    return res\n",
        "\n",
        "def clean_up_sentence(sentence):\n",
        "    \n",
        "    sentence_words= nltk.word_tokenize(sentence)\n",
        "    \n",
        "    sentence_words=[lemmatizer.lemmatize(word.lower()) for word in sentence_words]\n",
        "    \n",
        "    return sentence_words\n",
        "\n",
        "def bow(sentence, words, show_details=True):\n",
        "    \n",
        "    sentence_words=clean_up_sentence(sentence)\n",
        "    \n",
        "    bag=[0]*len(words)\n",
        "    \n",
        "    for s in sentence_words:\n",
        "        \n",
        "        for i, w in enumerate(words):\n",
        "          \n",
        "          if w==s:\n",
        "                \n",
        "                bag[i]=1\n",
        "                \n",
        "                if show_details:\n",
        "                    \n",
        "                    print('found in bag: %s' % w)\n",
        "    \n",
        "    return np.array(bag)\n",
        "\n",
        "\n",
        "def predict_class(sentence, model):\n",
        "   \n",
        "    p=bow(sentence, words, show_details=False)\n",
        "    \n",
        "    res= model.predict(np.array([p]))[0]\n",
        "    \n",
        "    ERROR_THRESHOLD=0.25\n",
        "    results = [[i, r] for i, r in enumerate(res) if r > ERROR_THRESHOLD]\n",
        "\n",
        "    results.sort(key=lambda x:x[1],reverse=True)\n",
        "    \n",
        "    return_list=[]\n",
        "    \n",
        "    for r in results:\n",
        "        \n",
        "        return_list.append({\"intent\": classes[r[0]], \"probability\": str(r[1])})\n",
        "    \n",
        "    return return_list\n",
        "\n",
        "def getResponse(ints, intents_json):\n",
        "    tag=ints[0]['intent']\n",
        "\n",
        "    list_of_intents = intents_json[\"intents\"]\n",
        "    \n",
        "    for i in list_of_intents:\n",
        "        \n",
        "        if i['tag']==tag:\n",
        "            result=random.choice(i['responses'])\n",
        "            break\n",
        "    \n",
        "    return result\n",
        "\n",
        "if __name__ == \"__main__\":\n",
        " \n",
        "    app.run()\n",
        "    app.debug=True\n"
      ],
      "metadata": {
        "id": "Y-CtB3zq0Hdc",
        "colab": {
          "base_uri": "https://localhost:8080/"
        },
        "outputId": "7387b78e-a4f8-416c-861a-042db52165ed"
      },
      "execution_count": 41,
      "outputs": [
        {
          "output_type": "stream",
          "name": "stdout",
          "text": [
            " * Serving Flask app \"__main__\" (lazy loading)\n",
            " * Environment: production\n",
            "\u001b[31m   WARNING: This is a development server. Do not use it in a production deployment.\u001b[0m\n",
            "\u001b[2m   Use a production WSGI server instead.\u001b[0m\n",
            " * Debug mode: off\n"
          ]
        },
        {
          "output_type": "stream",
          "name": "stderr",
          "text": [
            "INFO:werkzeug: * Running on http://127.0.0.1:5000/ (Press CTRL+C to quit)\n"
          ]
        },
        {
          "output_type": "stream",
          "name": "stdout",
          "text": [
            " * Running on http://f42f-34-75-180-217.ngrok.io\n",
            " * Traffic stats available on http://127.0.0.1:4040\n"
          ]
        },
        {
          "output_type": "stream",
          "name": "stderr",
          "text": [
            "ERROR:__main__:Exception on / [GET]\n",
            "Traceback (most recent call last):\n",
            "  File \"/usr/local/lib/python3.8/dist-packages/flask/app.py\", line 2447, in wsgi_app\n",
            "    response = self.full_dispatch_request()\n",
            "  File \"/usr/local/lib/python3.8/dist-packages/flask/app.py\", line 1952, in full_dispatch_request\n",
            "    rv = self.handle_user_exception(e)\n",
            "  File \"/usr/local/lib/python3.8/dist-packages/flask/app.py\", line 1821, in handle_user_exception\n",
            "    reraise(exc_type, exc_value, tb)\n",
            "  File \"/usr/local/lib/python3.8/dist-packages/flask/_compat.py\", line 39, in reraise\n",
            "    raise value\n",
            "  File \"/usr/local/lib/python3.8/dist-packages/flask/app.py\", line 1950, in full_dispatch_request\n",
            "    rv = self.dispatch_request()\n",
            "  File \"/usr/local/lib/python3.8/dist-packages/flask/app.py\", line 1936, in dispatch_request\n",
            "    return self.view_functions[rule.endpoint](**req.view_args)\n",
            "  File \"<ipython-input-41-b850de9b556f>\", line 16, in home\n",
            "    return render_template('/content/drive/MyDrive/NLP/template/index.html')\n",
            "  File \"/usr/local/lib/python3.8/dist-packages/flask/templating.py\", line 138, in render_template\n",
            "    ctx.app.jinja_env.get_or_select_template(template_name_or_list),\n",
            "  File \"/usr/local/lib/python3.8/dist-packages/jinja2/environment.py\", line 930, in get_or_select_template\n",
            "    return self.get_template(template_name_or_list, parent, globals)\n",
            "  File \"/usr/local/lib/python3.8/dist-packages/jinja2/environment.py\", line 883, in get_template\n",
            "    return self._load_template(name, self.make_globals(globals))\n",
            "  File \"/usr/local/lib/python3.8/dist-packages/jinja2/environment.py\", line 857, in _load_template\n",
            "    template = self.loader.load(self, name, globals)\n",
            "  File \"/usr/local/lib/python3.8/dist-packages/jinja2/loaders.py\", line 115, in load\n",
            "    source, filename, uptodate = self.get_source(environment, name)\n",
            "  File \"/usr/local/lib/python3.8/dist-packages/flask/templating.py\", line 60, in get_source\n",
            "    return self._get_source_fast(environment, template)\n",
            "  File \"/usr/local/lib/python3.8/dist-packages/flask/templating.py\", line 89, in _get_source_fast\n",
            "    raise TemplateNotFound(template)\n",
            "jinja2.exceptions.TemplateNotFound: /content/drive/MyDrive/NLP/template/index.html\n",
            "INFO:werkzeug:127.0.0.1 - - [27/Jan/2023 17:00:03] \"\u001b[35m\u001b[1mGET / HTTP/1.1\u001b[0m\" 500 -\n",
            "INFO:werkzeug:127.0.0.1 - - [27/Jan/2023 17:00:04] \"\u001b[33mGET /favicon.ico HTTP/1.1\u001b[0m\" 404 -\n"
          ]
        }
      ]
    },
    {
      "cell_type": "markdown",
      "source": [
        "![image.png](data:image/png;base64,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)\n",
        "\n",
        "Here is an output of chatbot. you play with chatbot by changing the intents.json and develop as many chatbots as you can :)\n",
        "---"
      ],
      "metadata": {
        "id": "C9FDC6PBc_AI"
      }
    },
    {
      "cell_type": "markdown",
      "source": [
        "We have come to an end of this project but don't stop here, try as many projects of the similar type to get a better understanding of the use cases. \n",
        "Solve the practice sheet of this project to test yourself.!!\n",
        "\n",
        "\n",
        "![](https://i.gifer.com/9ipP.gif)\n",
        "\n",
        "Great job!! You have come to the end of this assignment. Treat yourself for this :))\n",
        "<br>\n",
        "# Do fill this [feedback form](https://forms.zohopublic.in/cloudyml/form/CloudyMLDeepLearningFeedbackForm/formperma/VCFbldnXAnbcgAIl0lWv2blgHdSldheO4RfktMdgK7s)\n",
        "<br>\n",
        "You may head on to the next assignment/projects."
      ],
      "metadata": {
        "id": "fuSwVxh9tOP2"
      }
    }
  ]
}