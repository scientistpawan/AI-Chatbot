{
  "nbformat": 4,
  "nbformat_minor": 0,
  "metadata": {
    "colab": {
      "provenance": []
    },
    "kernelspec": {
      "name": "python3",
      "display_name": "Python 3"
    },
    "language_info": {
      "name": "python"
    }
  },
  "cells": [
    {
      "cell_type": "markdown",
      "source": [
        "<a id=\"6\"></a>\n",
        "<center><h1><u>Developing Simple Chatbot using Python and Deep Learning</h1></u></center>"
      ],
      "metadata": {
        "id": "agHY5TarKFNV"
      }
    },
    {
      "cell_type": "code",
      "source": [
        "!pip freeze > requirements.txt"
      ],
      "metadata": {
        "id": "jRLuX_3wyP8i"
      },
      "execution_count": null,
      "outputs": []
    },
    {
      "cell_type": "code",
      "execution_count": null,
      "metadata": {
        "id": "CoHefELWyL_4"
      },
      "outputs": [],
      "source": [
        "# import above mentioned libraries\n",
        "import random\n",
        "from tensorflow import keras\n",
        "from tensorflow.keras.optimizers import SGD\n",
        "from tensorflow.keras.layers import Dense, Dropout\n",
        "from tensorflow.keras.models import load_model\n",
        "from tensorflow.keras.models import Sequential\n",
        "import numpy as np\n",
        "import pickle\n",
        "import json"
      ]
    },
    {
      "cell_type": "markdown",
      "source": [
        "Now we will import **nltk** library for preprocess the data.<br>\n",
        "First we will import **nltk** library.<br>\n",
        "After importing **nltk**, we will **WordNetLemmatizer** and create object of it and download the neccessay package such as **punkt** and **wordnet**."
      ],
      "metadata": {
        "id": "QDwcfmrNwtOC"
      }
    },
    {
      "cell_type": "code",
      "source": [
        "#import nltk \n",
        "import nltk\n",
        "#importing WordNetLemmatizer from nltk.stem\n",
        "from nltk.stem import WordNetLemmatizer\n",
        "#creating WordNetLemmatizer object \n",
        "lemmatizer= WordNetLemmatizer()\n",
        "#download punkt and wordnet \n",
        "nltk.download()\n",
        "nltk.download('punkt')\n",
        "nltk.download('wordnet')\n"
      ],
      "metadata": {
        "colab": {
          "base_uri": "https://localhost:8080/"
        },
        "id": "nE0f5B0LMi3X",
        "outputId": "60b5cfac-f3f9-4325-c34f-f93a20339b57"
      },
      "execution_count": null,
      "outputs": [
        {
          "name": "stdout",
          "output_type": "stream",
          "text": [
            "NLTK Downloader\n",
            "---------------------------------------------------------------------------\n",
            "    d) Download   l) List    u) Update   c) Config   h) Help   q) Quit\n",
            "---------------------------------------------------------------------------\n",
            "Downloader> q\n"
          ]
        },
        {
          "output_type": "stream",
          "name": "stderr",
          "text": [
            "[nltk_data] Downloading package punkt to /root/nltk_data...\n",
            "[nltk_data]   Package punkt is already up-to-date!\n",
            "[nltk_data] Downloading package wordnet to /root/nltk_data...\n",
            "[nltk_data]   Package wordnet is already up-to-date!\n"
          ]
        },
        {
          "output_type": "execute_result",
          "data": {
            "text/plain": [
              "True"
            ]
          },
          "metadata": {},
          "execution_count": 26
        }
      ]
    },
    {
      "cell_type": "code",
      "source": [
        "from google.colab import drive\n",
        "drive.mount('/content/drive')"
      ],
      "metadata": {
        "colab": {
          "base_uri": "https://localhost:8080/"
        },
        "id": "_GgcpGoTWOC5",
        "outputId": "f03c925c-0a72-4802-9bb6-0bd587567ef7"
      },
      "execution_count": null,
      "outputs": [
        {
          "output_type": "stream",
          "name": "stdout",
          "text": [
            "Drive already mounted at /content/drive; to attempt to forcibly remount, call drive.mount(\"/content/drive\", force_remount=True).\n"
          ]
        }
      ]
    },
    {
      "cell_type": "markdown",
      "source": [
        "Now create a folder in drive and add path here to make use of files and intents."
      ],
      "metadata": {
        "id": "PE6C_OfVYqE0"
      }
    },
    {
      "cell_type": "code",
      "source": [
        "%cd /content/drive/MyDrive/NLP"
      ],
      "metadata": {
        "colab": {
          "base_uri": "https://localhost:8080/"
        },
        "id": "v_08StUaYOrZ",
        "outputId": "074571fa-59c3-4414-ac85-88cc8b7b6ad3"
      },
      "execution_count": null,
      "outputs": [
        {
          "output_type": "stream",
          "name": "stdout",
          "text": [
            "/content/drive/MyDrive/NLP\n"
          ]
        }
      ]
    },
    {
      "cell_type": "code",
      "source": [
        "!ls"
      ],
      "metadata": {
        "colab": {
          "base_uri": "https://localhost:8080/"
        },
        "id": "5ajbZYl0Wv5R",
        "outputId": "489cfb19-0b7e-428a-946f-99d83bb1cf30"
      },
      "execution_count": null,
      "outputs": [
        {
          "output_type": "stream",
          "name": "stdout",
          "text": [
            "chatbot_model.h5  classes.pkl  static  template  words.pkl\n"
          ]
        }
      ]
    },
    {
      "cell_type": "code",
      "source": [
        "\n",
        "words=[]\n",
        "classes=[]\n",
        "documents=[]\n",
        "\n",
        "ignore_words =['?','!']\n",
        "\n",
        "data_file=open('/content/drive/MyDrive/NLP/template/intents.json').read()\n",
        "\n",
        "intents=json.loads(data_file)"
      ],
      "metadata": {
        "id": "mpfOprIWMnbi"
      },
      "execution_count": null,
      "outputs": []
    },
    {
      "cell_type": "code",
      "source": [
        "\n",
        "for intent in intents[\"intents\"]:\n",
        "    for pattern in intent[\"patterns\"]:\n",
        "      w=nltk.word_tokenize(pattern)\n",
        "      words.extend(w)\n",
        "      documents.append((w,intent['tag']))\n",
        "      if intent[\"tag\"] not in classes:\n",
        "        classes.append(intent['tag'])"
      ],
      "metadata": {
        "id": "SiSFCRMuMsH3"
      },
      "execution_count": null,
      "outputs": []
    },
    {
      "cell_type": "code",
      "source": [
        "\n",
        "words=[lemmatizer.lemmatize(w.lower()) for w in words if w not in ignore_words]\n",
        "words= sorted(list(set(words)))\n",
        "\n",
        "classes=sorted(list(set(classes)))"
      ],
      "metadata": {
        "id": "Zn5R0D2qMwK_"
      },
      "execution_count": null,
      "outputs": []
    },
    {
      "cell_type": "code",
      "source": [
        "print(len(documents),'documents')\n",
        "print(len(classes),'classes',classes)\n",
        "print(len(words),'unique lemmatized words',words)"
      ],
      "metadata": {
        "colab": {
          "base_uri": "https://localhost:8080/"
        },
        "id": "8FyTs8-wM1q0",
        "outputId": "4356dbc9-b333-475b-ea6f-d17ec7247fc4"
      },
      "execution_count": null,
      "outputs": [
        {
          "output_type": "stream",
          "name": "stdout",
          "text": [
            "100 documents\n",
            "55 classes ['AI', 'abbr', 'artificial', 'bend', 'body', 'bot1', 'breathe', 'business', 'chatbot', 'chatterbox', 'clone', 'comp', 'computer', 'control', 'cramped', 'date', 'death', 'do', 'events', 'fav', 'fight', 'goodbye', 'greetings', 'hardware', 'hobby', 'idea', 'imortal', 'lang', 'laugh', 'lie', 'machine', 'malfunction', 'motormouth', 'move', 'name', 'name1', 'need', 'noanswer', 'os', 'program', 'programming', 'ratchet', 'robotics', 'robots', 'robotss', 'sapient', 'sense', 'sentiment', 'shoe', 'sound', 'stupid', 'thanks', 'usage', 'who', 'wt']\n",
            "126 unique lemmatized words [\"'m\", \"'s\", ',', 'a', 'ai', 'all', 'allowed', 'am', 'an', 'are', 'artificial', 'awesome', 'be', 'being', 'bend', 'body', 'bot', 'breathe', 'business', 'bye', 'can', 'chat', 'chatterbox', 'clone', 'coffee', 'computer', 'control', 'cramped', 'data', 'date', 'die', 'do', 'entity', 'event', 'favorite', 'favour', 'fight', 'for', 'good', 'great', 'hardware', 'haroo', 'hello', 'help', 'helpful', 'helping', 'hey', 'hi', 'hobby', 'holla', 'hope', 'how', 'i', 'idea', 'immortal', 'in', 'is', 'it', 'jaw', 'kind', 'language', 'later', 'laugh', 'lie', 'like', 'linguistic', 'making', 'malfunction', 'mate', 'me', 'motormouth', 'move', 'my', 'name', 'need', 'not', 'of', 'okay', 'on', 'operating', 'out', 'over', 'popping', 'product', 'program', 'programming', 'purpose', 'ratchet', 'robot', 'robotics', 'sapient', 'see', 'sense', 'sentient', 'shoe', 'should', 'size', 'sound', 'stupid', 'system', 'take', 'thank', 'thanks', 'thankyou', 'that', 'the', 'there', 'to', 'true', 'type', 'upcoming', 'use', 'walk', 'want', 'wassup', 'what', 'when', 'who', 'will', 'work', 'wow', 'written', 'wtf', 'yaw', 'you', 'your']\n"
          ]
        }
      ]
    },
    {
      "cell_type": "code",
      "source": [
        "pickle.dump(words, open('words.pkl','wb'))\n",
        "\n",
        "pickle.dump(classes, open('classes.pkl','wb'))"
      ],
      "metadata": {
        "id": "G6QW1yoSM9gF"
      },
      "execution_count": null,
      "outputs": []
    },
    {
      "cell_type": "code",
      "source": [
        "training=[]\n",
        "\n",
        "output_empty = [0] * len(classes)\n",
        "\n",
        "for doc in documents:\n",
        "\n",
        "    bag=[]\n",
        "    pattern_words=doc[0]\n",
        "    pattern_words=[lemmatizer.lemmatize(word.lower()) for word in pattern_words]\n",
        "    for w in words:\n",
        "        bag.append(1) if w in pattern_words else bag.append(0)\n",
        "\n",
        "    output_row=list(output_empty)\n",
        "\n",
        "    output_row[classes.index(doc[1])] = 1\n",
        "\n",
        "    training.append([bag, output_row])"
      ],
      "metadata": {
        "id": "3YyOMiDtNAQ5"
      },
      "execution_count": null,
      "outputs": []
    },
    {
      "cell_type": "code",
      "source": [
        "random.shuffle(training)\n",
        "training=np.array(training)\n",
        "train_x=list(training[:,0])\n",
        "train_y=list(training[:,1])\n",
        "print(\"Training data created\")"
      ],
      "metadata": {
        "colab": {
          "base_uri": "https://localhost:8080/"
        },
        "id": "VkSJzdS3NETD",
        "outputId": "36b0d670-9dc2-4964-e1d1-8a84a3668e7f"
      },
      "execution_count": null,
      "outputs": [
        {
          "output_type": "stream",
          "name": "stdout",
          "text": [
            "Training data created\n"
          ]
        },
        {
          "output_type": "stream",
          "name": "stderr",
          "text": [
            "<ipython-input-36-61bde1b4ce4c>:2: VisibleDeprecationWarning: Creating an ndarray from ragged nested sequences (which is a list-or-tuple of lists-or-tuples-or ndarrays with different lengths or shapes) is deprecated. If you meant to do this, you must specify 'dtype=object' when creating the ndarray.\n",
            "  training=np.array(training)\n"
          ]
        }
      ]
    },
    {
      "cell_type": "code",
      "source": [
        "model=Sequential()\n",
        "model.add(Dense(128,input_shape=(len(train_x[0]),),activation='relu'))\n",
        "model.add(Dropout(0.5))\n",
        "model.add(Dense(64, activation='relu'))\n",
        "model.add(Dropout(0.5))\n",
        "model.add(Dense(len(train_y[0]),activation='softmax'))"
      ],
      "metadata": {
        "id": "HDxtDQt_NIRf"
      },
      "execution_count": null,
      "outputs": []
    },
    {
      "cell_type": "markdown",
      "source": [
        "After adding all the hidden layers, now we check the summary of our model."
      ],
      "metadata": {
        "id": "r82ZIAZuKNt6"
      }
    },
    {
      "cell_type": "code",
      "source": [
        "model.summary()"
      ],
      "metadata": {
        "colab": {
          "base_uri": "https://localhost:8080/"
        },
        "id": "cUUY2oUkNTM9",
        "outputId": "b093c840-8b70-4dd9-ab8e-1718c13e495a"
      },
      "execution_count": null,
      "outputs": [
        {
          "output_type": "stream",
          "name": "stdout",
          "text": [
            "Model: \"sequential\"\n",
            "_________________________________________________________________\n",
            " Layer (type)                Output Shape              Param #   \n",
            "=================================================================\n",
            " dense (Dense)               (None, 128)               16256     \n",
            "                                                                 \n",
            " dropout (Dropout)           (None, 128)               0         \n",
            "                                                                 \n",
            " dense_1 (Dense)             (None, 64)                8256      \n",
            "                                                                 \n",
            " dropout_1 (Dropout)         (None, 64)                0         \n",
            "                                                                 \n",
            " dense_2 (Dense)             (None, 55)                3575      \n",
            "                                                                 \n",
            "=================================================================\n",
            "Total params: 28,087\n",
            "Trainable params: 28,087\n",
            "Non-trainable params: 0\n",
            "_________________________________________________________________\n"
          ]
        }
      ]
    },
    {
      "cell_type": "code",
      "source": [
        "sgd= SGD(lr=0.01, decay=1e-6, momentum=0.9, nesterov=True)\n",
        "model.compile(loss='categorical_crossentropy',optimizer=sgd, metrics=['accuracy'])"
      ],
      "metadata": {
        "id": "6GJDpGnwNQDJ"
      },
      "execution_count": null,
      "outputs": []
    },
    {
      "cell_type": "code",
      "source": [
        "hist = model.fit(np.array(train_x), np.array(train_y), epochs=150, batch_size=5, verbose=1)\n",
        "model.save('chatbot_model.h5', hist)\n",
        "print(\"model created\")"
      ],
      "metadata": {
        "id": "UIpv_bXYNXZt",
        "colab": {
          "base_uri": "https://localhost:8080/"
        },
        "outputId": "34e560f0-b186-435a-cb55-87cea99393f5"
      },
      "execution_count": null,
      "outputs": [
        {
          "output_type": "stream",
          "name": "stdout",
          "text": [
            "Epoch 1/150\n",
            "20/20 [==============================] - 0s 2ms/step - loss: 4.0283 - accuracy: 0.0300\n",
            "Epoch 2/150\n",
            "20/20 [==============================] - 0s 2ms/step - loss: 3.9392 - accuracy: 0.0700\n",
            "Epoch 3/150\n",
            "20/20 [==============================] - 0s 2ms/step - loss: 3.8625 - accuracy: 0.1100\n",
            "Epoch 4/150\n",
            "20/20 [==============================] - 0s 2ms/step - loss: 3.7853 - accuracy: 0.1600\n",
            "Epoch 5/150\n",
            "20/20 [==============================] - 0s 2ms/step - loss: 3.7453 - accuracy: 0.1100\n",
            "Epoch 6/150\n",
            "20/20 [==============================] - 0s 2ms/step - loss: 3.5892 - accuracy: 0.1800\n",
            "Epoch 7/150\n",
            "20/20 [==============================] - 0s 2ms/step - loss: 3.5554 - accuracy: 0.1000\n",
            "Epoch 8/150\n",
            "20/20 [==============================] - 0s 2ms/step - loss: 3.3996 - accuracy: 0.1900\n",
            "Epoch 9/150\n",
            "20/20 [==============================] - 0s 2ms/step - loss: 3.2770 - accuracy: 0.2300\n",
            "Epoch 10/150\n",
            "20/20 [==============================] - 0s 2ms/step - loss: 3.3132 - accuracy: 0.1900\n",
            "Epoch 11/150\n",
            "20/20 [==============================] - 0s 2ms/step - loss: 3.0762 - accuracy: 0.2900\n",
            "Epoch 12/150\n",
            "20/20 [==============================] - 0s 2ms/step - loss: 3.0750 - accuracy: 0.2700\n",
            "Epoch 13/150\n",
            "20/20 [==============================] - 0s 2ms/step - loss: 2.8705 - accuracy: 0.3100\n",
            "Epoch 14/150\n",
            "20/20 [==============================] - 0s 2ms/step - loss: 2.7777 - accuracy: 0.3300\n",
            "Epoch 15/150\n",
            "20/20 [==============================] - 0s 2ms/step - loss: 2.7472 - accuracy: 0.3700\n",
            "Epoch 16/150\n",
            "20/20 [==============================] - 0s 2ms/step - loss: 2.5727 - accuracy: 0.3600\n",
            "Epoch 17/150\n",
            "20/20 [==============================] - 0s 2ms/step - loss: 2.5122 - accuracy: 0.3800\n",
            "Epoch 18/150\n",
            "20/20 [==============================] - 0s 2ms/step - loss: 2.4373 - accuracy: 0.3800\n",
            "Epoch 19/150\n",
            "20/20 [==============================] - 0s 2ms/step - loss: 2.5249 - accuracy: 0.3300\n",
            "Epoch 20/150\n",
            "20/20 [==============================] - 0s 2ms/step - loss: 2.2768 - accuracy: 0.3400\n",
            "Epoch 21/150\n",
            "20/20 [==============================] - 0s 2ms/step - loss: 2.0794 - accuracy: 0.4800\n",
            "Epoch 22/150\n",
            "20/20 [==============================] - 0s 2ms/step - loss: 2.2134 - accuracy: 0.4400\n",
            "Epoch 23/150\n",
            "20/20 [==============================] - 0s 2ms/step - loss: 2.1224 - accuracy: 0.4400\n",
            "Epoch 24/150\n",
            "20/20 [==============================] - 0s 2ms/step - loss: 1.9378 - accuracy: 0.5000\n",
            "Epoch 25/150\n",
            "20/20 [==============================] - 0s 2ms/step - loss: 1.8387 - accuracy: 0.5100\n",
            "Epoch 26/150\n",
            "20/20 [==============================] - 0s 2ms/step - loss: 1.6555 - accuracy: 0.5600\n",
            "Epoch 27/150\n",
            "20/20 [==============================] - 0s 2ms/step - loss: 1.7499 - accuracy: 0.4400\n",
            "Epoch 28/150\n",
            "20/20 [==============================] - 0s 2ms/step - loss: 1.7273 - accuracy: 0.5900\n",
            "Epoch 29/150\n",
            "20/20 [==============================] - 0s 2ms/step - loss: 1.6943 - accuracy: 0.5100\n",
            "Epoch 30/150\n",
            "20/20 [==============================] - 0s 2ms/step - loss: 1.6856 - accuracy: 0.5300\n",
            "Epoch 31/150\n",
            "20/20 [==============================] - 0s 2ms/step - loss: 1.6027 - accuracy: 0.5900\n",
            "Epoch 32/150\n",
            "20/20 [==============================] - 0s 2ms/step - loss: 1.5803 - accuracy: 0.5600\n",
            "Epoch 33/150\n",
            "20/20 [==============================] - 0s 2ms/step - loss: 1.3384 - accuracy: 0.6200\n",
            "Epoch 34/150\n",
            "20/20 [==============================] - 0s 2ms/step - loss: 1.5138 - accuracy: 0.5800\n",
            "Epoch 35/150\n",
            "20/20 [==============================] - 0s 2ms/step - loss: 1.4978 - accuracy: 0.6200\n",
            "Epoch 36/150\n",
            "20/20 [==============================] - 0s 2ms/step - loss: 1.3921 - accuracy: 0.5800\n",
            "Epoch 37/150\n",
            "20/20 [==============================] - 0s 3ms/step - loss: 1.3356 - accuracy: 0.6300\n",
            "Epoch 38/150\n",
            "20/20 [==============================] - 0s 2ms/step - loss: 1.2586 - accuracy: 0.6700\n",
            "Epoch 39/150\n",
            "20/20 [==============================] - 0s 2ms/step - loss: 1.1080 - accuracy: 0.7200\n",
            "Epoch 40/150\n",
            "20/20 [==============================] - 0s 2ms/step - loss: 1.2083 - accuracy: 0.6500\n",
            "Epoch 41/150\n",
            "20/20 [==============================] - 0s 2ms/step - loss: 1.2040 - accuracy: 0.6500\n",
            "Epoch 42/150\n",
            "20/20 [==============================] - 0s 2ms/step - loss: 1.0804 - accuracy: 0.6600\n",
            "Epoch 43/150\n",
            "20/20 [==============================] - 0s 2ms/step - loss: 1.1196 - accuracy: 0.6300\n",
            "Epoch 44/150\n",
            "20/20 [==============================] - 0s 2ms/step - loss: 1.1547 - accuracy: 0.6900\n",
            "Epoch 45/150\n",
            "20/20 [==============================] - 0s 2ms/step - loss: 1.0950 - accuracy: 0.6600\n",
            "Epoch 46/150\n",
            "20/20 [==============================] - 0s 2ms/step - loss: 1.1732 - accuracy: 0.6800\n",
            "Epoch 47/150\n",
            "20/20 [==============================] - 0s 2ms/step - loss: 1.0586 - accuracy: 0.7000\n",
            "Epoch 48/150\n",
            "20/20 [==============================] - 0s 2ms/step - loss: 1.0117 - accuracy: 0.7400\n",
            "Epoch 49/150\n",
            "20/20 [==============================] - 0s 2ms/step - loss: 0.8237 - accuracy: 0.7800\n",
            "Epoch 50/150\n",
            "20/20 [==============================] - 0s 2ms/step - loss: 0.8216 - accuracy: 0.7900\n",
            "Epoch 51/150\n",
            "20/20 [==============================] - 0s 2ms/step - loss: 0.8491 - accuracy: 0.7200\n",
            "Epoch 52/150\n",
            "20/20 [==============================] - 0s 2ms/step - loss: 1.0007 - accuracy: 0.7300\n",
            "Epoch 53/150\n",
            "20/20 [==============================] - 0s 2ms/step - loss: 0.7981 - accuracy: 0.7900\n",
            "Epoch 54/150\n",
            "20/20 [==============================] - 0s 2ms/step - loss: 0.8182 - accuracy: 0.7600\n",
            "Epoch 55/150\n",
            "20/20 [==============================] - 0s 2ms/step - loss: 0.8450 - accuracy: 0.7200\n",
            "Epoch 56/150\n",
            "20/20 [==============================] - 0s 2ms/step - loss: 0.7455 - accuracy: 0.8000\n",
            "Epoch 57/150\n",
            "20/20 [==============================] - 0s 2ms/step - loss: 0.7536 - accuracy: 0.7800\n",
            "Epoch 58/150\n",
            "20/20 [==============================] - 0s 2ms/step - loss: 0.6722 - accuracy: 0.8400\n",
            "Epoch 59/150\n",
            "20/20 [==============================] - 0s 2ms/step - loss: 0.8785 - accuracy: 0.6700\n",
            "Epoch 60/150\n",
            "20/20 [==============================] - 0s 2ms/step - loss: 0.8949 - accuracy: 0.7200\n",
            "Epoch 61/150\n",
            "20/20 [==============================] - 0s 2ms/step - loss: 0.7549 - accuracy: 0.8100\n",
            "Epoch 62/150\n",
            "20/20 [==============================] - 0s 2ms/step - loss: 0.8031 - accuracy: 0.7500\n",
            "Epoch 63/150\n",
            "20/20 [==============================] - 0s 2ms/step - loss: 0.8077 - accuracy: 0.7300\n",
            "Epoch 64/150\n",
            "20/20 [==============================] - 0s 2ms/step - loss: 0.9232 - accuracy: 0.7100\n",
            "Epoch 65/150\n",
            "20/20 [==============================] - 0s 2ms/step - loss: 0.9015 - accuracy: 0.7700\n",
            "Epoch 66/150\n",
            "20/20 [==============================] - 0s 2ms/step - loss: 0.5888 - accuracy: 0.8500\n",
            "Epoch 67/150\n",
            "20/20 [==============================] - 0s 2ms/step - loss: 0.6480 - accuracy: 0.8200\n",
            "Epoch 68/150\n",
            "20/20 [==============================] - 0s 2ms/step - loss: 0.7939 - accuracy: 0.8100\n",
            "Epoch 69/150\n",
            "20/20 [==============================] - 0s 2ms/step - loss: 0.7965 - accuracy: 0.7900\n",
            "Epoch 70/150\n",
            "20/20 [==============================] - 0s 2ms/step - loss: 0.4757 - accuracy: 0.8600\n",
            "Epoch 71/150\n",
            "20/20 [==============================] - 0s 2ms/step - loss: 0.6786 - accuracy: 0.8000\n",
            "Epoch 72/150\n",
            "20/20 [==============================] - 0s 2ms/step - loss: 0.5433 - accuracy: 0.8200\n",
            "Epoch 73/150\n",
            "20/20 [==============================] - 0s 2ms/step - loss: 0.6445 - accuracy: 0.7800\n",
            "Epoch 74/150\n",
            "20/20 [==============================] - 0s 2ms/step - loss: 0.6208 - accuracy: 0.8700\n",
            "Epoch 75/150\n",
            "20/20 [==============================] - 0s 2ms/step - loss: 0.6502 - accuracy: 0.8400\n",
            "Epoch 76/150\n",
            "20/20 [==============================] - 0s 2ms/step - loss: 0.6083 - accuracy: 0.8200\n",
            "Epoch 77/150\n",
            "20/20 [==============================] - 0s 2ms/step - loss: 0.7327 - accuracy: 0.7800\n",
            "Epoch 78/150\n",
            "20/20 [==============================] - 0s 2ms/step - loss: 0.5842 - accuracy: 0.8000\n",
            "Epoch 79/150\n",
            "20/20 [==============================] - 0s 2ms/step - loss: 0.7091 - accuracy: 0.7600\n",
            "Epoch 80/150\n",
            "20/20 [==============================] - 0s 2ms/step - loss: 0.6828 - accuracy: 0.7900\n",
            "Epoch 81/150\n",
            "20/20 [==============================] - 0s 2ms/step - loss: 0.6723 - accuracy: 0.7900\n",
            "Epoch 82/150\n",
            "20/20 [==============================] - 0s 2ms/step - loss: 0.4744 - accuracy: 0.8500\n",
            "Epoch 83/150\n",
            "20/20 [==============================] - 0s 2ms/step - loss: 0.5731 - accuracy: 0.8300\n",
            "Epoch 84/150\n",
            "20/20 [==============================] - 0s 2ms/step - loss: 0.6393 - accuracy: 0.8200\n",
            "Epoch 85/150\n",
            "20/20 [==============================] - 0s 2ms/step - loss: 0.5574 - accuracy: 0.8400\n",
            "Epoch 86/150\n",
            "20/20 [==============================] - 0s 2ms/step - loss: 0.4784 - accuracy: 0.8400\n",
            "Epoch 87/150\n",
            "20/20 [==============================] - 0s 2ms/step - loss: 0.5654 - accuracy: 0.8300\n",
            "Epoch 88/150\n",
            "20/20 [==============================] - 0s 2ms/step - loss: 0.6240 - accuracy: 0.8100\n",
            "Epoch 89/150\n",
            "20/20 [==============================] - 0s 2ms/step - loss: 0.4733 - accuracy: 0.8800\n",
            "Epoch 90/150\n",
            "20/20 [==============================] - 0s 2ms/step - loss: 0.5366 - accuracy: 0.8300\n",
            "Epoch 91/150\n",
            "20/20 [==============================] - 0s 2ms/step - loss: 0.4460 - accuracy: 0.8900\n",
            "Epoch 92/150\n",
            "20/20 [==============================] - 0s 2ms/step - loss: 0.5340 - accuracy: 0.8300\n",
            "Epoch 93/150\n",
            "20/20 [==============================] - 0s 2ms/step - loss: 0.5434 - accuracy: 0.8300\n",
            "Epoch 94/150\n",
            "20/20 [==============================] - 0s 2ms/step - loss: 0.4836 - accuracy: 0.8700\n",
            "Epoch 95/150\n",
            "20/20 [==============================] - 0s 2ms/step - loss: 0.4418 - accuracy: 0.8600\n",
            "Epoch 96/150\n",
            "20/20 [==============================] - 0s 2ms/step - loss: 0.4209 - accuracy: 0.8600\n",
            "Epoch 97/150\n",
            "20/20 [==============================] - 0s 2ms/step - loss: 0.4952 - accuracy: 0.8200\n",
            "Epoch 98/150\n",
            "20/20 [==============================] - 0s 2ms/step - loss: 0.4586 - accuracy: 0.8800\n",
            "Epoch 99/150\n",
            "20/20 [==============================] - 0s 2ms/step - loss: 0.6136 - accuracy: 0.7800\n",
            "Epoch 100/150\n",
            "20/20 [==============================] - 0s 2ms/step - loss: 0.5384 - accuracy: 0.8700\n",
            "Epoch 101/150\n",
            "20/20 [==============================] - 0s 2ms/step - loss: 0.4754 - accuracy: 0.8500\n",
            "Epoch 102/150\n",
            "20/20 [==============================] - 0s 2ms/step - loss: 0.5517 - accuracy: 0.8400\n",
            "Epoch 103/150\n",
            "20/20 [==============================] - 0s 2ms/step - loss: 0.5052 - accuracy: 0.8300\n",
            "Epoch 104/150\n",
            "20/20 [==============================] - 0s 2ms/step - loss: 0.5111 - accuracy: 0.8200\n",
            "Epoch 105/150\n",
            "20/20 [==============================] - 0s 2ms/step - loss: 0.4457 - accuracy: 0.8800\n",
            "Epoch 106/150\n",
            "20/20 [==============================] - 0s 2ms/step - loss: 0.4273 - accuracy: 0.8600\n",
            "Epoch 107/150\n",
            "20/20 [==============================] - 0s 2ms/step - loss: 0.3806 - accuracy: 0.8800\n",
            "Epoch 108/150\n",
            "20/20 [==============================] - 0s 2ms/step - loss: 0.3689 - accuracy: 0.8500\n",
            "Epoch 109/150\n",
            "20/20 [==============================] - 0s 2ms/step - loss: 0.4450 - accuracy: 0.8900\n",
            "Epoch 110/150\n",
            "20/20 [==============================] - 0s 2ms/step - loss: 0.6475 - accuracy: 0.8100\n",
            "Epoch 111/150\n",
            "20/20 [==============================] - 0s 2ms/step - loss: 0.4592 - accuracy: 0.8100\n",
            "Epoch 112/150\n",
            "20/20 [==============================] - 0s 2ms/step - loss: 0.3737 - accuracy: 0.8900\n",
            "Epoch 113/150\n",
            "20/20 [==============================] - 0s 2ms/step - loss: 0.5340 - accuracy: 0.8700\n",
            "Epoch 114/150\n",
            "20/20 [==============================] - 0s 2ms/step - loss: 0.4066 - accuracy: 0.8700\n",
            "Epoch 115/150\n",
            "20/20 [==============================] - 0s 2ms/step - loss: 0.3095 - accuracy: 0.9100\n",
            "Epoch 116/150\n",
            "20/20 [==============================] - 0s 2ms/step - loss: 0.3220 - accuracy: 0.9200\n",
            "Epoch 117/150\n",
            "20/20 [==============================] - 0s 2ms/step - loss: 0.3784 - accuracy: 0.9100\n",
            "Epoch 118/150\n",
            "20/20 [==============================] - 0s 2ms/step - loss: 0.5008 - accuracy: 0.8500\n",
            "Epoch 119/150\n",
            "20/20 [==============================] - 0s 2ms/step - loss: 0.3970 - accuracy: 0.8300\n",
            "Epoch 120/150\n",
            "20/20 [==============================] - 0s 2ms/step - loss: 0.3226 - accuracy: 0.9000\n",
            "Epoch 121/150\n",
            "20/20 [==============================] - 0s 2ms/step - loss: 0.3535 - accuracy: 0.8900\n",
            "Epoch 122/150\n",
            "20/20 [==============================] - 0s 2ms/step - loss: 0.4073 - accuracy: 0.8800\n",
            "Epoch 123/150\n",
            "20/20 [==============================] - 0s 2ms/step - loss: 0.3224 - accuracy: 0.9100\n",
            "Epoch 124/150\n",
            "20/20 [==============================] - 0s 2ms/step - loss: 0.4910 - accuracy: 0.8300\n",
            "Epoch 125/150\n",
            "20/20 [==============================] - 0s 2ms/step - loss: 0.4070 - accuracy: 0.8900\n",
            "Epoch 126/150\n",
            "20/20 [==============================] - 0s 2ms/step - loss: 0.4890 - accuracy: 0.8600\n",
            "Epoch 127/150\n",
            "20/20 [==============================] - 0s 2ms/step - loss: 0.3694 - accuracy: 0.8700\n",
            "Epoch 128/150\n",
            "20/20 [==============================] - 0s 2ms/step - loss: 0.4975 - accuracy: 0.8100\n",
            "Epoch 129/150\n",
            "20/20 [==============================] - 0s 2ms/step - loss: 0.3299 - accuracy: 0.8900\n",
            "Epoch 130/150\n",
            "20/20 [==============================] - 0s 2ms/step - loss: 0.3961 - accuracy: 0.8700\n",
            "Epoch 131/150\n",
            "20/20 [==============================] - 0s 2ms/step - loss: 0.3167 - accuracy: 0.8800\n",
            "Epoch 132/150\n",
            "20/20 [==============================] - 0s 2ms/step - loss: 0.4218 - accuracy: 0.8400\n",
            "Epoch 133/150\n",
            "20/20 [==============================] - 0s 2ms/step - loss: 0.3934 - accuracy: 0.8800\n",
            "Epoch 134/150\n",
            "20/20 [==============================] - 0s 2ms/step - loss: 0.3457 - accuracy: 0.9000\n",
            "Epoch 135/150\n",
            "20/20 [==============================] - 0s 2ms/step - loss: 0.4004 - accuracy: 0.9100\n",
            "Epoch 136/150\n",
            "20/20 [==============================] - 0s 2ms/step - loss: 0.3463 - accuracy: 0.8800\n",
            "Epoch 137/150\n",
            "20/20 [==============================] - 0s 2ms/step - loss: 0.4820 - accuracy: 0.8400\n",
            "Epoch 138/150\n",
            "20/20 [==============================] - 0s 2ms/step - loss: 0.3879 - accuracy: 0.8600\n",
            "Epoch 139/150\n",
            "20/20 [==============================] - 0s 2ms/step - loss: 0.4096 - accuracy: 0.8500\n",
            "Epoch 140/150\n",
            "20/20 [==============================] - 0s 2ms/step - loss: 0.4007 - accuracy: 0.8700\n",
            "Epoch 141/150\n",
            "20/20 [==============================] - 0s 2ms/step - loss: 0.4694 - accuracy: 0.8400\n",
            "Epoch 142/150\n",
            "20/20 [==============================] - 0s 2ms/step - loss: 0.2805 - accuracy: 0.9200\n",
            "Epoch 143/150\n",
            "20/20 [==============================] - 0s 2ms/step - loss: 0.3357 - accuracy: 0.9000\n",
            "Epoch 144/150\n",
            "20/20 [==============================] - 0s 2ms/step - loss: 0.2926 - accuracy: 0.8900\n",
            "Epoch 145/150\n",
            "20/20 [==============================] - 0s 2ms/step - loss: 0.2863 - accuracy: 0.9000\n",
            "Epoch 146/150\n",
            "20/20 [==============================] - 0s 2ms/step - loss: 0.3406 - accuracy: 0.9000\n",
            "Epoch 147/150\n",
            "20/20 [==============================] - 0s 2ms/step - loss: 0.3305 - accuracy: 0.8900\n",
            "Epoch 148/150\n",
            "20/20 [==============================] - 0s 2ms/step - loss: 0.4816 - accuracy: 0.8600\n",
            "Epoch 149/150\n",
            "20/20 [==============================] - 0s 2ms/step - loss: 0.4061 - accuracy: 0.8300\n",
            "Epoch 150/150\n",
            "20/20 [==============================] - 0s 2ms/step - loss: 0.3151 - accuracy: 0.9000\n",
            "model created\n"
          ]
        }
      ]
    },
    {
      "cell_type": "markdown",
      "source": [
        "Now our model is trained, So we have to deploy our model with an interface.\n",
        "So for flask implementation we need IDLEs for implementation. But in this project we are going to implement flask with the help of Google Colab Notebook.\n",
        "\n",
        "So lets start with Deployment\n",
        "---"
      ],
      "metadata": {
        "id": "XbhUTkqMU7DI"
      }
    },
    {
      "cell_type": "markdown",
      "source": [
        "First we will install flask_ngrok for flask implementation in google colab."
      ],
      "metadata": {
        "id": "IAyym0wVWTbo"
      }
    },
    {
      "cell_type": "code",
      "source": [
        "!pip install flask_ngrok"
      ],
      "metadata": {
        "id": "hzPGJp2kz1fe",
        "colab": {
          "base_uri": "https://localhost:8080/"
        },
        "outputId": "252d519e-5bf6-4eff-b54c-49281fdf6ef5"
      },
      "execution_count": null,
      "outputs": [
        {
          "output_type": "stream",
          "name": "stdout",
          "text": [
            "Looking in indexes: https://pypi.org/simple, https://us-python.pkg.dev/colab-wheels/public/simple/\n",
            "Collecting flask_ngrok\n",
            "  Downloading flask_ngrok-0.0.25-py3-none-any.whl (3.1 kB)\n",
            "Requirement already satisfied: Flask>=0.8 in /usr/local/lib/python3.8/dist-packages (from flask_ngrok) (1.1.4)\n",
            "Requirement already satisfied: requests in /usr/local/lib/python3.8/dist-packages (from flask_ngrok) (2.25.1)\n",
            "Requirement already satisfied: click<8.0,>=5.1 in /usr/local/lib/python3.8/dist-packages (from Flask>=0.8->flask_ngrok) (7.1.2)\n",
            "Requirement already satisfied: itsdangerous<2.0,>=0.24 in /usr/local/lib/python3.8/dist-packages (from Flask>=0.8->flask_ngrok) (1.1.0)\n",
            "Requirement already satisfied: Werkzeug<2.0,>=0.15 in /usr/local/lib/python3.8/dist-packages (from Flask>=0.8->flask_ngrok) (1.0.1)\n",
            "Requirement already satisfied: Jinja2<3.0,>=2.10.1 in /usr/local/lib/python3.8/dist-packages (from Flask>=0.8->flask_ngrok) (2.11.3)\n",
            "Requirement already satisfied: certifi>=2017.4.17 in /usr/local/lib/python3.8/dist-packages (from requests->flask_ngrok) (2022.12.7)\n",
            "Requirement already satisfied: idna<3,>=2.5 in /usr/local/lib/python3.8/dist-packages (from requests->flask_ngrok) (2.10)\n",
            "Requirement already satisfied: chardet<5,>=3.0.2 in /usr/local/lib/python3.8/dist-packages (from requests->flask_ngrok) (4.0.0)\n",
            "Requirement already satisfied: urllib3<1.27,>=1.21.1 in /usr/local/lib/python3.8/dist-packages (from requests->flask_ngrok) (1.24.3)\n",
            "Requirement already satisfied: MarkupSafe>=0.23 in /usr/local/lib/python3.8/dist-packages (from Jinja2<3.0,>=2.10.1->Flask>=0.8->flask_ngrok) (2.0.1)\n",
            "Installing collected packages: flask_ngrok\n",
            "Successfully installed flask_ngrok-0.0.25\n"
          ]
        }
      ]
    },
    {
      "cell_type": "markdown",
      "source": [
        "Now we will install and download the ngrok with these commands for installing."
      ],
      "metadata": {
        "id": "7XDE4-g2bQTn"
      }
    },
    {
      "cell_type": "code",
      "source": [
        "! ngrok config add-authtoken 2Ku4oUNr7ddMQcJwtkuuuuQsLnN_5D67zkK8UusL2rnW1ntrY"
      ],
      "metadata": {
        "id": "36IFSZNA8o_W",
        "colab": {
          "base_uri": "https://localhost:8080/"
        },
        "outputId": "96eaf2cf-8197-444a-880e-e9e00ff75a20"
      },
      "execution_count": null,
      "outputs": [
        {
          "output_type": "stream",
          "name": "stdout",
          "text": [
            "Authtoken saved to configuration file: /root/.config/ngrok/ngrok.yml\n"
          ]
        }
      ]
    },
    {
      "cell_type": "code",
      "source": [
        "from flask import *\n",
        "from flask_ngrok import run_with_ngrok\n",
        "import random\n",
        "import numpy as np\n",
        "import pickle\n",
        "import json\n",
        "from tensorflow.keras.models import load_model\n",
        "import nltk\n",
        "from nltk.stem import WordNetLemmatizer\n",
        "lemmatizer= WordNetLemmatizer()"
      ],
      "metadata": {
        "id": "Vv8DWJbL7POS"
      },
      "execution_count": null,
      "outputs": []
    },
    {
      "cell_type": "code",
      "source": [
        "!pip install pyngrok==4.1.1"
      ],
      "metadata": {
        "colab": {
          "base_uri": "https://localhost:8080/"
        },
        "id": "2btE_QMuqh29",
        "outputId": "6f748e2d-c86a-4f6f-d2dc-578d88b86615"
      },
      "execution_count": null,
      "outputs": [
        {
          "output_type": "stream",
          "name": "stdout",
          "text": [
            "Looking in indexes: https://pypi.org/simple, https://us-python.pkg.dev/colab-wheels/public/simple/\n",
            "Collecting pyngrok==4.1.1\n",
            "  Downloading pyngrok-4.1.1.tar.gz (18 kB)\n",
            "  Preparing metadata (setup.py) ... \u001b[?25l\u001b[?25hdone\n",
            "Requirement already satisfied: future in /usr/local/lib/python3.8/dist-packages (from pyngrok==4.1.1) (0.16.0)\n",
            "Requirement already satisfied: PyYAML in /usr/local/lib/python3.8/dist-packages (from pyngrok==4.1.1) (6.0)\n",
            "Building wheels for collected packages: pyngrok\n",
            "  Building wheel for pyngrok (setup.py) ... \u001b[?25l\u001b[?25hdone\n",
            "  Created wheel for pyngrok: filename=pyngrok-4.1.1-py3-none-any.whl size=15982 sha256=6c432d46fd4d8b1c94e961544958103898af7068f857b903f858310c08e0fd1d\n",
            "  Stored in directory: /root/.cache/pip/wheels/5e/0a/51/8cb053ccd84481dd3233eba4cdb608bc7a885fd8ca418c0806\n",
            "Successfully built pyngrok\n",
            "Installing collected packages: pyngrok\n",
            "Successfully installed pyngrok-4.1.1\n"
          ]
        }
      ]
    },
    {
      "cell_type": "code",
      "source": [
        "#create a flask app\n",
        "app= Flask(__name__)\n",
        "run_with_ngrok(app)\n",
        "\n",
        "model= load_model('/content/drive/MyDrive/NLP/chatbot_model.h5')\n",
        "\n",
        "intents= json.loads(open('/content/drive/MyDrive/NLP/template/intents.json').read())\n",
        "\n",
        "words= pickle.load(open('/content/drive/MyDrive/NLP/words.pkl','rb'))\n",
        "\n",
        "classes= pickle.load(open('/content/drive/MyDrive/NLP/classes.pkl','rb'))\n",
        "\n",
        "@app.route(\"/\")\n",
        "\n",
        "def home():\n",
        "    return render_template('/content/drive/MyDrive/NLP/template/index.html')\n",
        "\n",
        "@app.route(\"/get\",methods=[\"POST\"])\n",
        "\n",
        "def chatbot_response():\n",
        "    msg = request.form[\"msg\"]\n",
        "\n",
        "    if msg.startswith('my name is'):\n",
        "        name =msg[11:]\n",
        "        ints = predict_class(msg, model)\n",
        "        res1 = getResponse(ints, intents)\n",
        "        res =res1.replace(\"{n}\",name)\n",
        "\n",
        "    elif msg.startswith('Hi my name is'):\n",
        "        name =msg[14:]\n",
        "        \n",
        "        ints = predict_class(msg, model)\n",
        "\n",
        "        res1 = getResponse(ints, intents)\n",
        "\n",
        "        res =res1.replace(\"{n}\",name)\n",
        "\n",
        "    else:\n",
        "        \n",
        "        ints = predict_class(msg, model)\n",
        "\n",
        "        res1 = getResponse(ints, intents)\n",
        "\n",
        "    return res\n",
        "\n",
        "def clean_up_sentence(sentence):\n",
        "    \n",
        "    sentence_words= nltk.word_tokenize(sentence)\n",
        "    \n",
        "    sentence_words=[lemmatizer.lemmatize(word.lower()) for word in sentence_words]\n",
        "    \n",
        "    return sentence_words\n",
        "\n",
        "def bow(sentence, words, show_details=True):\n",
        "    \n",
        "    sentence_words=clean_up_sentence(sentence)\n",
        "    \n",
        "    bag=[0]*len(words)\n",
        "    \n",
        "    for s in sentence_words:\n",
        "        \n",
        "        for i, w in enumerate(words):\n",
        "          \n",
        "          if w==s:\n",
        "                \n",
        "                bag[i]=1\n",
        "                \n",
        "                if show_details:\n",
        "                    \n",
        "                    print('found in bag: %s' % w)\n",
        "    \n",
        "    return np.array(bag)\n",
        "\n",
        "\n",
        "def predict_class(sentence, model):\n",
        "   \n",
        "    p=bow(sentence, words, show_details=False)\n",
        "    \n",
        "    res= model.predict(np.array([p]))[0]\n",
        "    \n",
        "    ERROR_THRESHOLD=0.25\n",
        "    results = [[i, r] for i, r in enumerate(res) if r > ERROR_THRESHOLD]\n",
        "\n",
        "    results.sort(key=lambda x:x[1],reverse=True)\n",
        "    \n",
        "    return_list=[]\n",
        "    \n",
        "    for r in results:\n",
        "        \n",
        "        return_list.append({\"intent\": classes[r[0]], \"probability\": str(r[1])})\n",
        "    \n",
        "    return return_list\n",
        "\n",
        "def getResponse(ints, intents_json):\n",
        "    tag=ints[0]['intent']\n",
        "\n",
        "    list_of_intents = intents_json[\"intents\"]\n",
        "    \n",
        "    for i in list_of_intents:\n",
        "        \n",
        "        if i['tag']==tag:\n",
        "            result=random.choice(i['responses'])\n",
        "            break\n",
        "    \n",
        "    return result\n",
        "\n",
        "if __name__ == \"__main__\":\n",
        " \n",
        "    app.run()\n",
        "    app.debug=True\n"
      ],
      "metadata": {
        "id": "Y-CtB3zq0Hdc",
        "colab": {
          "base_uri": "https://localhost:8080/"
        },
        "outputId": "7387b78e-a4f8-416c-861a-042db52165ed"
      },
      "execution_count": null,
      "outputs": [
        {
          "output_type": "stream",
          "name": "stdout",
          "text": [
            " * Serving Flask app \"__main__\" (lazy loading)\n",
            " * Environment: production\n",
            "\u001b[31m   WARNING: This is a development server. Do not use it in a production deployment.\u001b[0m\n",
            "\u001b[2m   Use a production WSGI server instead.\u001b[0m\n",
            " * Debug mode: off\n"
          ]
        },
        {
          "output_type": "stream",
          "name": "stderr",
          "text": [
            "INFO:werkzeug: * Running on http://127.0.0.1:5000/ (Press CTRL+C to quit)\n"
          ]
        },
        {
          "output_type": "stream",
          "name": "stdout",
          "text": [
            " * Running on http://f42f-34-75-180-217.ngrok.io\n",
            " * Traffic stats available on http://127.0.0.1:4040\n"
          ]
        },
        {
          "output_type": "stream",
          "name": "stderr",
          "text": [
            "ERROR:__main__:Exception on / [GET]\n",
            "Traceback (most recent call last):\n",
            "  File \"/usr/local/lib/python3.8/dist-packages/flask/app.py\", line 2447, in wsgi_app\n",
            "    response = self.full_dispatch_request()\n",
            "  File \"/usr/local/lib/python3.8/dist-packages/flask/app.py\", line 1952, in full_dispatch_request\n",
            "    rv = self.handle_user_exception(e)\n",
            "  File \"/usr/local/lib/python3.8/dist-packages/flask/app.py\", line 1821, in handle_user_exception\n",
            "    reraise(exc_type, exc_value, tb)\n",
            "  File \"/usr/local/lib/python3.8/dist-packages/flask/_compat.py\", line 39, in reraise\n",
            "    raise value\n",
            "  File \"/usr/local/lib/python3.8/dist-packages/flask/app.py\", line 1950, in full_dispatch_request\n",
            "    rv = self.dispatch_request()\n",
            "  File \"/usr/local/lib/python3.8/dist-packages/flask/app.py\", line 1936, in dispatch_request\n",
            "    return self.view_functions[rule.endpoint](**req.view_args)\n",
            "  File \"<ipython-input-41-b850de9b556f>\", line 16, in home\n",
            "    return render_template('/content/drive/MyDrive/NLP/template/index.html')\n",
            "  File \"/usr/local/lib/python3.8/dist-packages/flask/templating.py\", line 138, in render_template\n",
            "    ctx.app.jinja_env.get_or_select_template(template_name_or_list),\n",
            "  File \"/usr/local/lib/python3.8/dist-packages/jinja2/environment.py\", line 930, in get_or_select_template\n",
            "    return self.get_template(template_name_or_list, parent, globals)\n",
            "  File \"/usr/local/lib/python3.8/dist-packages/jinja2/environment.py\", line 883, in get_template\n",
            "    return self._load_template(name, self.make_globals(globals))\n",
            "  File \"/usr/local/lib/python3.8/dist-packages/jinja2/environment.py\", line 857, in _load_template\n",
            "    template = self.loader.load(self, name, globals)\n",
            "  File \"/usr/local/lib/python3.8/dist-packages/jinja2/loaders.py\", line 115, in load\n",
            "    source, filename, uptodate = self.get_source(environment, name)\n",
            "  File \"/usr/local/lib/python3.8/dist-packages/flask/templating.py\", line 60, in get_source\n",
            "    return self._get_source_fast(environment, template)\n",
            "  File \"/usr/local/lib/python3.8/dist-packages/flask/templating.py\", line 89, in _get_source_fast\n",
            "    raise TemplateNotFound(template)\n",
            "jinja2.exceptions.TemplateNotFound: /content/drive/MyDrive/NLP/template/index.html\n",
            "INFO:werkzeug:127.0.0.1 - - [27/Jan/2023 17:00:03] \"\u001b[35m\u001b[1mGET / HTTP/1.1\u001b[0m\" 500 -\n",
            "INFO:werkzeug:127.0.0.1 - - [27/Jan/2023 17:00:04] \"\u001b[33mGET /favicon.ico HTTP/1.1\u001b[0m\" 404 -\n"
          ]
        }
      ]
    }
  ]
}